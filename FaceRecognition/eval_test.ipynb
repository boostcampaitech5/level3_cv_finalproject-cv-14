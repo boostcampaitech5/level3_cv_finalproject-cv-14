{
 "cells": [
  {
   "cell_type": "code",
   "execution_count": 15,
   "id": "45ab1ab5-bfd9-4a00-9b1a-10e79754ae64",
   "metadata": {},
   "outputs": [],
   "source": [
    "from torch.utils.data import Dataset, DataLoader\n",
    "from Crawling_Dataset import Crawling_Nomal_Dataset\n",
    "import torch\n",
    "import cv2 \n",
    "import os\n",
    "import numpy as np\n",
    "from torchvision import transforms\n",
    "import torch.utils.data as data\n",
    "from facenet_pytorch import MTCNN, InceptionResnetV1, fixed_image_standardization\n",
    "import math\n",
    "import tqdm as tqdm\n",
    "import matplotlib.pyplot as plt\n",
    "from PIL import Image\n",
    "from collections import defaultdict\n",
    "from torchvision.transforms import Resize\n",
    "# from cheff import bring"
   ]
  },
  {
   "cell_type": "code",
   "execution_count": 16,
   "id": "4aec48f1-5454-4351-a2ee-12eaee331604",
   "metadata": {},
   "outputs": [],
   "source": [
    "test_path = '/opt/ml/project/data/celeb/cut_test'\n",
    "train_path = '/opt/ml/project/data/celeb/cut_train'"
   ]
  },
  {
   "cell_type": "code",
   "execution_count": 17,
   "id": "c5afe335-5ec1-44ff-b474-9edde7fab231",
   "metadata": {},
   "outputs": [],
   "source": [
    "transform = transforms.Compose([\n",
    "        np.float32,\n",
    "        transforms.ToTensor(),  # range [0, 255] -> [0.0, 1.0]\n",
    "        # Resize((112, 112)),\n",
    "        Resize((160, 160)),\n",
    "        fixed_image_standardization\n",
    "    ])"
   ]
  },
  {
   "cell_type": "code",
   "execution_count": 18,
   "id": "190ea351-0040-487b-a0fe-2ea5d13eda56",
   "metadata": {},
   "outputs": [],
   "source": [
    "test_dataset = Crawling_Nomal_Dataset(test_path, transforms=transform)\n",
    "train_dataset = Crawling_Nomal_Dataset(train_path, transforms=transform)\n",
    "test_data_loader = data.DataLoader(test_dataset, batch_size=1, shuffle=True, num_workers=2, drop_last=False)\n",
    "train_data_loader = data.DataLoader(train_dataset, batch_size=1, shuffle=True, num_workers=2, drop_last=False)"
   ]
  },
  {
   "cell_type": "code",
   "execution_count": 19,
   "id": "58b003aa-0bff-4a3d-99d2-58be1435c990",
   "metadata": {},
   "outputs": [],
   "source": [
    "def get_label_per_path_dict(data_loader) :\n",
    "    identities = defaultdict(lambda : list())\n",
    "    # dict = {label1 : [image_path_1.jpg,image_path_2.jpg,....],\n",
    "    #        label2 : [image_path_1.jpg,image_path_2.jpg,....],...}\n",
    "    \n",
    "    for img,  path_label in data_loader :\n",
    "        img_path = path_label[0][0]\n",
    "        img_label = path_label[1].tolist()[0]\n",
    "        # print(img_path, img_label, sep='\\n')\n",
    "        identities[img_label].append(img_path)\n",
    "    return identities"
   ]
  },
  {
   "cell_type": "code",
   "execution_count": 20,
   "id": "b4951265-550e-418d-a3b9-68c494cbc049",
   "metadata": {},
   "outputs": [
    {
     "name": "stderr",
     "output_type": "stream",
     "text": [
      "/opt/conda/envs/deepface/lib/python3.10/site-packages/torchvision/transforms/functional.py:1603: UserWarning: The default value of the antialias parameter of all the resizing transforms (Resize(), RandomResizedCrop(), etc.) will change from None to True in v0.17, in order to be consistent across the PIL and Tensor backends. To suppress this warning, directly pass antialias=True (recommended, future default), antialias=None (current default, which means False for Tensors and True for PIL), or antialias=False (only works on Tensors - PIL will still use antialiasing). This also applies if you are using the inference transforms from the models weights: update the call to weights.transforms(antialias=True).\n",
      "  warnings.warn(\n",
      "/opt/conda/envs/deepface/lib/python3.10/site-packages/torchvision/transforms/functional.py:1603: UserWarning: The default value of the antialias parameter of all the resizing transforms (Resize(), RandomResizedCrop(), etc.) will change from None to True in v0.17, in order to be consistent across the PIL and Tensor backends. To suppress this warning, directly pass antialias=True (recommended, future default), antialias=None (current default, which means False for Tensors and True for PIL), or antialias=False (only works on Tensors - PIL will still use antialiasing). This also applies if you are using the inference transforms from the models weights: update the call to weights.transforms(antialias=True).\n",
      "  warnings.warn(\n"
     ]
    }
   ],
   "source": [
    "identities = get_label_per_path_dict(test_data_loader)"
   ]
  },
  {
   "cell_type": "code",
   "execution_count": 21,
   "id": "53458b8a-41e6-41fd-a72b-1f1c4e59cb79",
   "metadata": {},
   "outputs": [],
   "source": [
    "from backbones import get_model\n",
    "# from backbones import IResNet, IBasicBlock, get_model\n",
    "# from backbones.Inception_resnet import InceptionResnetV1\n",
    "import pandas as pd"
   ]
  },
  {
   "cell_type": "code",
   "execution_count": 22,
   "id": "edf03c7b",
   "metadata": {},
   "outputs": [],
   "source": [
    "# backbone = get_model(\n",
    "#     cfg.network, dropout=0.0, fp16=cfg.fp16, num_features=cfg.embedding_size).cuda()\n",
    "\n",
    "\n",
    "# model = get_model('r50',False)\n",
    "# model = get_model('r50', fp16=False, num_features=512).cuda() # dropout=0.0\n",
    "model = get_model('ghost', fp16=False, num_features=512).cuda() # dropout=0.0"
   ]
  },
  {
   "cell_type": "code",
   "execution_count": 23,
   "id": "e54c8ec4",
   "metadata": {},
   "outputs": [],
   "source": [
    "model_pth = '/opt/ml/project/insightface/recognition/level3_cv_finalproject-cv-14/work_dirs/wf4m_ghost/model.pt'\n"
   ]
  },
  {
   "cell_type": "code",
   "execution_count": 24,
   "id": "3ca6c606-6943-4b69-8fcd-06816f74cb9c",
   "metadata": {},
   "outputs": [
    {
     "data": {
      "text/plain": [
       "<All keys matched successfully>"
      ]
     },
     "execution_count": 24,
     "metadata": {},
     "output_type": "execute_result"
    }
   ],
   "source": [
    "# model = InceptionResnetV1(classify=False,pretrained='vgg_casia')\n",
    "model.load_state_dict(torch.load(model_pth))"
   ]
  },
  {
   "cell_type": "code",
   "execution_count": 25,
   "id": "08341671",
   "metadata": {},
   "outputs": [],
   "source": [
    "device = torch.device('cuda' if torch.cuda.is_available() else 'cpu')"
   ]
  },
  {
   "cell_type": "code",
   "execution_count": 26,
   "id": "05f4cac4-a8c2-41c5-9d2c-0a7606822be9",
   "metadata": {},
   "outputs": [],
   "source": [
    "model = InceptionResnetV1(\n",
    "    classify=False,\n",
    "    pretrained='vggface2'\n",
    ").to(device)"
   ]
  },
  {
   "cell_type": "code",
   "execution_count": 27,
   "id": "a21160c6",
   "metadata": {},
   "outputs": [],
   "source": [
    "def get_embedding(feature) :\n",
    "    device = torch.device('cuda' if torch.cuda.is_available() else 'cpu')\n",
    "    feature = feature.to(device)\n",
    "    # feature = torch.as_tensor(feature, dtype=torch.float32)\n",
    "    embedding = model(feature)\n",
    "    embedding = embedding.to('cpu').numpy()\n",
    "    # embedding = embedding.astype(np.float32)\n",
    "    return embedding"
   ]
  },
  {
   "cell_type": "code",
   "execution_count": 28,
   "id": "6c607514-ae5e-4031-9291-53aeb45a711e",
   "metadata": {},
   "outputs": [],
   "source": [
    "def make_path_embedding_dict(FILE_PATH) :\n",
    "    path_embedding_dict = {}\n",
    "    model.eval()\n",
    "    with torch.no_grad() :\n",
    "        \n",
    "        dataset = Crawling_Nomal_Dataset(FILE_PATH, transforms=transform)\n",
    "        data_loader = data.DataLoader(dataset, batch_size=1, shuffle=True, num_workers=2, drop_last=False)\n",
    "        \n",
    "        for feature, path_label_list in data_loader :\n",
    "            # print(path_label_list)\n",
    "            embeddings = get_embedding(feature)\n",
    "            key = path_label_list[0][0]\n",
    "            # print(key)\n",
    "            value = embeddings\n",
    "            path_embedding_dict[key] = value\n",
    "            \n",
    "    return path_embedding_dict\n",
    "        "
   ]
  },
  {
   "cell_type": "code",
   "execution_count": 29,
   "id": "ed4663be-3f8a-4417-8edf-2901b1eb6e35",
   "metadata": {},
   "outputs": [
    {
     "name": "stderr",
     "output_type": "stream",
     "text": [
      "/opt/conda/envs/deepface/lib/python3.10/site-packages/torchvision/transforms/functional.py:1603: UserWarning: The default value of the antialias parameter of all the resizing transforms (Resize(), RandomResizedCrop(), etc.) will change from None to True in v0.17, in order to be consistent across the PIL and Tensor backends. To suppress this warning, directly pass antialias=True (recommended, future default), antialias=None (current default, which means False for Tensors and True for PIL), or antialias=False (only works on Tensors - PIL will still use antialiasing). This also applies if you are using the inference transforms from the models weights: update the call to weights.transforms(antialias=True).\n",
      "  warnings.warn(\n",
      "/opt/conda/envs/deepface/lib/python3.10/site-packages/torchvision/transforms/functional.py:1603: UserWarning: The default value of the antialias parameter of all the resizing transforms (Resize(), RandomResizedCrop(), etc.) will change from None to True in v0.17, in order to be consistent across the PIL and Tensor backends. To suppress this warning, directly pass antialias=True (recommended, future default), antialias=None (current default, which means False for Tensors and True for PIL), or antialias=False (only works on Tensors - PIL will still use antialiasing). This also applies if you are using the inference transforms from the models weights: update the call to weights.transforms(antialias=True).\n",
      "  warnings.warn(\n"
     ]
    }
   ],
   "source": [
    "path2embedding = make_path_embedding_dict(test_path)"
   ]
  },
  {
   "cell_type": "code",
   "execution_count": 30,
   "id": "d3169acf-652d-4a88-a05e-ed506981beb3",
   "metadata": {},
   "outputs": [
    {
     "data": {
      "text/plain": [
       "1000"
      ]
     },
     "execution_count": 30,
     "metadata": {},
     "output_type": "execute_result"
    }
   ],
   "source": [
    "len(path2embedding.values())"
   ]
  },
  {
   "cell_type": "code",
   "execution_count": 31,
   "id": "3ca5c45a-ec16-48b1-8864-17d249ae3768",
   "metadata": {},
   "outputs": [
    {
     "data": {
      "text/html": [
       "<div>\n",
       "<style scoped>\n",
       "    .dataframe tbody tr th:only-of-type {\n",
       "        vertical-align: middle;\n",
       "    }\n",
       "\n",
       "    .dataframe tbody tr th {\n",
       "        vertical-align: top;\n",
       "    }\n",
       "\n",
       "    .dataframe thead th {\n",
       "        text-align: right;\n",
       "    }\n",
       "</style>\n",
       "<table border=\"1\" class=\"dataframe\">\n",
       "  <thead>\n",
       "    <tr style=\"text-align: right;\">\n",
       "      <th></th>\n",
       "      <th>file_x</th>\n",
       "      <th>file_y</th>\n",
       "      <th>decision</th>\n",
       "    </tr>\n",
       "  </thead>\n",
       "  <tbody>\n",
       "    <tr>\n",
       "      <th>0</th>\n",
       "      <td>/opt/ml/project/data/celeb/cut_test/cut_Hajung...</td>\n",
       "      <td>/opt/ml/project/data/celeb/cut_test/cut_Hajung...</td>\n",
       "      <td>Yes</td>\n",
       "    </tr>\n",
       "    <tr>\n",
       "      <th>1</th>\n",
       "      <td>/opt/ml/project/data/celeb/cut_test/cut_Hajung...</td>\n",
       "      <td>/opt/ml/project/data/celeb/cut_test/cut_Hajung...</td>\n",
       "      <td>Yes</td>\n",
       "    </tr>\n",
       "    <tr>\n",
       "      <th>2</th>\n",
       "      <td>/opt/ml/project/data/celeb/cut_test/cut_Hajung...</td>\n",
       "      <td>/opt/ml/project/data/celeb/cut_test/cut_Hajung...</td>\n",
       "      <td>Yes</td>\n",
       "    </tr>\n",
       "    <tr>\n",
       "      <th>3</th>\n",
       "      <td>/opt/ml/project/data/celeb/cut_test/cut_Hajung...</td>\n",
       "      <td>/opt/ml/project/data/celeb/cut_test/cut_Hajung...</td>\n",
       "      <td>Yes</td>\n",
       "    </tr>\n",
       "    <tr>\n",
       "      <th>4</th>\n",
       "      <td>/opt/ml/project/data/celeb/cut_test/cut_Hajung...</td>\n",
       "      <td>/opt/ml/project/data/celeb/cut_test/cut_Hajung...</td>\n",
       "      <td>Yes</td>\n",
       "    </tr>\n",
       "  </tbody>\n",
       "</table>\n",
       "</div>"
      ],
      "text/plain": [
       "                                              file_x  \\\n",
       "0  /opt/ml/project/data/celeb/cut_test/cut_Hajung...   \n",
       "1  /opt/ml/project/data/celeb/cut_test/cut_Hajung...   \n",
       "2  /opt/ml/project/data/celeb/cut_test/cut_Hajung...   \n",
       "3  /opt/ml/project/data/celeb/cut_test/cut_Hajung...   \n",
       "4  /opt/ml/project/data/celeb/cut_test/cut_Hajung...   \n",
       "\n",
       "                                              file_y decision  \n",
       "0  /opt/ml/project/data/celeb/cut_test/cut_Hajung...      Yes  \n",
       "1  /opt/ml/project/data/celeb/cut_test/cut_Hajung...      Yes  \n",
       "2  /opt/ml/project/data/celeb/cut_test/cut_Hajung...      Yes  \n",
       "3  /opt/ml/project/data/celeb/cut_test/cut_Hajung...      Yes  \n",
       "4  /opt/ml/project/data/celeb/cut_test/cut_Hajung...      Yes  "
      ]
     },
     "execution_count": 31,
     "metadata": {},
     "output_type": "execute_result"
    }
   ],
   "source": [
    "\n",
    "positives = []\n",
    "for key, values in identities.items():\n",
    "    # print(values)\n",
    "    for i in range(0, len(values)-1):\n",
    "        for j in range(i+1, len(values)):\n",
    "            positive = []\n",
    "            positive.append(values[i])\n",
    "            positive.append(values[j])\n",
    "            positives.append(positive)\n",
    "# print(positives)\n",
    "positives = pd.DataFrame(positives, columns = [\"file_x\", \"file_y\"])\n",
    "positives[\"decision\"] = \"Yes\"\n",
    "positives.head()"
   ]
  },
  {
   "cell_type": "code",
   "execution_count": 32,
   "id": "612fc0fd-76aa-40ff-95c2-4f77516cc71b",
   "metadata": {},
   "outputs": [],
   "source": [
    "import itertools\n",
    "samples_list = list(identities.values())\n",
    "# print(samples_list)\n",
    "negatives = []\n",
    "for i in range(0, len(identities) - 1):\n",
    "    for j in range(i+1, len(identities)):\n",
    "        cross_product = itertools.product(samples_list[i], samples_list[j])\n",
    "        cross_product = list(cross_product)\n",
    "        # print(cross_product)\n",
    "        \n",
    " \n",
    "    for cross_sample in cross_product:\n",
    "        negative = []\n",
    "        negative.append(cross_sample[0])\n",
    "        negative.append(cross_sample[1])\n",
    "        negatives.append(negative)\n",
    " \n",
    "negatives = pd.DataFrame(negatives, columns = [\"file_x\", \"file_y\"])\n",
    "negatives[\"decision\"] = \"No\""
   ]
  },
  {
   "cell_type": "code",
   "execution_count": 33,
   "id": "b8f03a42-ae7d-4b24-aa31-a0c9cc789ca1",
   "metadata": {},
   "outputs": [
    {
     "data": {
      "text/html": [
       "<div>\n",
       "<style scoped>\n",
       "    .dataframe tbody tr th:only-of-type {\n",
       "        vertical-align: middle;\n",
       "    }\n",
       "\n",
       "    .dataframe tbody tr th {\n",
       "        vertical-align: top;\n",
       "    }\n",
       "\n",
       "    .dataframe thead th {\n",
       "        text-align: right;\n",
       "    }\n",
       "</style>\n",
       "<table border=\"1\" class=\"dataframe\">\n",
       "  <thead>\n",
       "    <tr style=\"text-align: right;\">\n",
       "      <th></th>\n",
       "      <th>file_x</th>\n",
       "      <th>file_y</th>\n",
       "      <th>decision</th>\n",
       "    </tr>\n",
       "  </thead>\n",
       "  <tbody>\n",
       "    <tr>\n",
       "      <th>0</th>\n",
       "      <td>/opt/ml/project/data/celeb/cut_test/cut_Hajung...</td>\n",
       "      <td>/opt/ml/project/data/celeb/cut_test/cut_Iu_74.jpg</td>\n",
       "      <td>No</td>\n",
       "    </tr>\n",
       "    <tr>\n",
       "      <th>1</th>\n",
       "      <td>/opt/ml/project/data/celeb/cut_test/cut_Hajung...</td>\n",
       "      <td>/opt/ml/project/data/celeb/cut_test/cut_Iu_37.jpg</td>\n",
       "      <td>No</td>\n",
       "    </tr>\n",
       "    <tr>\n",
       "      <th>2</th>\n",
       "      <td>/opt/ml/project/data/celeb/cut_test/cut_Hajung...</td>\n",
       "      <td>/opt/ml/project/data/celeb/cut_test/cut_Iu_45.jpg</td>\n",
       "      <td>No</td>\n",
       "    </tr>\n",
       "    <tr>\n",
       "      <th>3</th>\n",
       "      <td>/opt/ml/project/data/celeb/cut_test/cut_Hajung...</td>\n",
       "      <td>/opt/ml/project/data/celeb/cut_test/cut_Iu_53.jpg</td>\n",
       "      <td>No</td>\n",
       "    </tr>\n",
       "    <tr>\n",
       "      <th>4</th>\n",
       "      <td>/opt/ml/project/data/celeb/cut_test/cut_Hajung...</td>\n",
       "      <td>/opt/ml/project/data/celeb/cut_test/cut_Iu_76.jpg</td>\n",
       "      <td>No</td>\n",
       "    </tr>\n",
       "  </tbody>\n",
       "</table>\n",
       "</div>"
      ],
      "text/plain": [
       "                                              file_x  \\\n",
       "0  /opt/ml/project/data/celeb/cut_test/cut_Hajung...   \n",
       "1  /opt/ml/project/data/celeb/cut_test/cut_Hajung...   \n",
       "2  /opt/ml/project/data/celeb/cut_test/cut_Hajung...   \n",
       "3  /opt/ml/project/data/celeb/cut_test/cut_Hajung...   \n",
       "4  /opt/ml/project/data/celeb/cut_test/cut_Hajung...   \n",
       "\n",
       "                                              file_y decision  \n",
       "0  /opt/ml/project/data/celeb/cut_test/cut_Iu_74.jpg       No  \n",
       "1  /opt/ml/project/data/celeb/cut_test/cut_Iu_37.jpg       No  \n",
       "2  /opt/ml/project/data/celeb/cut_test/cut_Iu_45.jpg       No  \n",
       "3  /opt/ml/project/data/celeb/cut_test/cut_Iu_53.jpg       No  \n",
       "4  /opt/ml/project/data/celeb/cut_test/cut_Iu_76.jpg       No  "
      ]
     },
     "execution_count": 33,
     "metadata": {},
     "output_type": "execute_result"
    }
   ],
   "source": [
    "negatives.head()"
   ]
  },
  {
   "cell_type": "code",
   "execution_count": 34,
   "id": "7c6a0120-6a7b-48b6-ad12-472b5c5ebc46",
   "metadata": {},
   "outputs": [
    {
     "data": {
      "text/html": [
       "<div>\n",
       "<style scoped>\n",
       "    .dataframe tbody tr th:only-of-type {\n",
       "        vertical-align: middle;\n",
       "    }\n",
       "\n",
       "    .dataframe tbody tr th {\n",
       "        vertical-align: top;\n",
       "    }\n",
       "\n",
       "    .dataframe thead th {\n",
       "        text-align: right;\n",
       "    }\n",
       "</style>\n",
       "<table border=\"1\" class=\"dataframe\">\n",
       "  <thead>\n",
       "    <tr style=\"text-align: right;\">\n",
       "      <th></th>\n",
       "      <th>file_x</th>\n",
       "      <th>file_y</th>\n",
       "      <th>decision</th>\n",
       "    </tr>\n",
       "  </thead>\n",
       "  <tbody>\n",
       "    <tr>\n",
       "      <th>0</th>\n",
       "      <td>/opt/ml/project/data/celeb/cut_test/cut_Hajung...</td>\n",
       "      <td>/opt/ml/project/data/celeb/cut_test/cut_Hajung...</td>\n",
       "      <td>Yes</td>\n",
       "    </tr>\n",
       "    <tr>\n",
       "      <th>1</th>\n",
       "      <td>/opt/ml/project/data/celeb/cut_test/cut_Hajung...</td>\n",
       "      <td>/opt/ml/project/data/celeb/cut_test/cut_Hajung...</td>\n",
       "      <td>Yes</td>\n",
       "    </tr>\n",
       "    <tr>\n",
       "      <th>2</th>\n",
       "      <td>/opt/ml/project/data/celeb/cut_test/cut_Hajung...</td>\n",
       "      <td>/opt/ml/project/data/celeb/cut_test/cut_Hajung...</td>\n",
       "      <td>Yes</td>\n",
       "    </tr>\n",
       "    <tr>\n",
       "      <th>3</th>\n",
       "      <td>/opt/ml/project/data/celeb/cut_test/cut_Hajung...</td>\n",
       "      <td>/opt/ml/project/data/celeb/cut_test/cut_Hajung...</td>\n",
       "      <td>Yes</td>\n",
       "    </tr>\n",
       "    <tr>\n",
       "      <th>4</th>\n",
       "      <td>/opt/ml/project/data/celeb/cut_test/cut_Hajung...</td>\n",
       "      <td>/opt/ml/project/data/celeb/cut_test/cut_Hajung...</td>\n",
       "      <td>Yes</td>\n",
       "    </tr>\n",
       "  </tbody>\n",
       "</table>\n",
       "</div>"
      ],
      "text/plain": [
       "                                              file_x  \\\n",
       "0  /opt/ml/project/data/celeb/cut_test/cut_Hajung...   \n",
       "1  /opt/ml/project/data/celeb/cut_test/cut_Hajung...   \n",
       "2  /opt/ml/project/data/celeb/cut_test/cut_Hajung...   \n",
       "3  /opt/ml/project/data/celeb/cut_test/cut_Hajung...   \n",
       "4  /opt/ml/project/data/celeb/cut_test/cut_Hajung...   \n",
       "\n",
       "                                              file_y decision  \n",
       "0  /opt/ml/project/data/celeb/cut_test/cut_Hajung...      Yes  \n",
       "1  /opt/ml/project/data/celeb/cut_test/cut_Hajung...      Yes  \n",
       "2  /opt/ml/project/data/celeb/cut_test/cut_Hajung...      Yes  \n",
       "3  /opt/ml/project/data/celeb/cut_test/cut_Hajung...      Yes  \n",
       "4  /opt/ml/project/data/celeb/cut_test/cut_Hajung...      Yes  "
      ]
     },
     "execution_count": 34,
     "metadata": {},
     "output_type": "execute_result"
    }
   ],
   "source": [
    "df = pd.concat([positives, negatives]).reset_index(drop = True)\n",
    "df.head()\n",
    "# df.file_x = \"dataset/\"+df.file_x\n",
    "# df.file_y = \"dataset/\"+df.file_y\n",
    "# df.head()"
   ]
  },
  {
   "cell_type": "code",
   "execution_count": 35,
   "id": "b03f7a13-0017-4858-92b3-bce10baa10a2",
   "metadata": {},
   "outputs": [
    {
     "name": "stdout",
     "output_type": "stream",
     "text": [
      "['/opt/ml/project/data/celeb/cut_test/cut_Hajungwoo_15.jpg', '/opt/ml/project/data/celeb/cut_test/cut_Hajungwoo_17.jpg']\n"
     ]
    }
   ],
   "source": [
    "instances = df[[\"file_x\", \"file_y\"]].values.tolist()\n",
    "print(instances[0])\n",
    "# path2embedding['/opt/ml/data/celeb_30/cut_test/cut_Parkjiseong_16.jpg']"
   ]
  },
  {
   "cell_type": "code",
   "execution_count": 36,
   "id": "74f2c62b",
   "metadata": {},
   "outputs": [],
   "source": [
    "def distance(embeddings1, embeddings2, distance_metric=0):\n",
    "    if distance_metric==0:\n",
    "        # Euclidian distance\n",
    "        diff = np.subtract(embeddings1, embeddings2)\n",
    "        dist = np.sum(np.square(diff),1)\n",
    "    elif distance_metric==1:\n",
    "        # Distance based on cosine similarity\n",
    "        dot = np.sum(np.multiply(embeddings1, embeddings2), axis=1)\n",
    "        norm = np.linalg.norm(embeddings1, axis=1) * np.linalg.norm(embeddings2, axis=1)\n",
    "        similarity = dot / norm\n",
    "        dist = np.arccos(similarity) / math.pi\n",
    "    else:\n",
    "        raise 'Undefined distance metric %d' % distance_metric\n",
    "\n",
    "    return dist"
   ]
  },
  {
   "cell_type": "code",
   "execution_count": 37,
   "id": "734c533c-1f7e-4ccf-9ca0-6a79ba2921e9",
   "metadata": {},
   "outputs": [],
   "source": [
    "def distance(embeddings1, embeddings2, distance_metric=0):\n",
    "    if distance_metric==0:\n",
    "        # Euclidian distance\n",
    "        diff = np.subtract(embeddings1, embeddings2)\n",
    "        dist = np.sum(np.square(diff),1) # 제곱해야됨.\n",
    "    elif distance_metric==1:\n",
    "        # Distance based on cosine similarity\n",
    "        dot = np.sum(np.multiply(embeddings1, embeddings2), axis=1)\n",
    "        norm = np.linalg.norm(embeddings1, axis=1) * np.linalg.norm(embeddings2, axis=1)\n",
    "        similarity = dot / norm\n",
    "        dist = np.arccos(similarity) / math.pi\n",
    "    else:\n",
    "        raise 'Undefined distance metric %d' % distance_metric\n",
    "\n",
    "    return dist\n",
    "\n",
    "\n",
    "distance_list = []\n",
    "model.eval()\n",
    "with torch.no_grad():\n",
    "    for row in df.itertuples() :\n",
    "        embedding_1 = path2embedding[row[1]]\n",
    "        embedding_2 = path2embedding[row[2]]\n",
    "        dist = round(distance(embedding_1, embedding_2, 1)[0],4)\n",
    "        # print(dist)\n",
    "        distance_list.append(dist)\n",
    "\n",
    "df['distance'] = distance_list"
   ]
  },
  {
   "cell_type": "code",
   "execution_count": 38,
   "id": "37e8a3b2-5c2c-4988-8441-a3877ad98853",
   "metadata": {},
   "outputs": [
    {
     "data": {
      "text/plain": [
       "No     9900\n",
       "Yes    4500\n",
       "Name: decision, dtype: int64"
      ]
     },
     "execution_count": 38,
     "metadata": {},
     "output_type": "execute_result"
    }
   ],
   "source": [
    "df.decision.value_counts()"
   ]
  },
  {
   "cell_type": "code",
   "execution_count": 39,
   "id": "8bbfb523-58d6-4acf-8842-c21a21a24346",
   "metadata": {},
   "outputs": [
    {
     "data": {
      "text/plain": [
       "<Axes: ylabel='Density'>"
      ]
     },
     "execution_count": 39,
     "metadata": {},
     "output_type": "execute_result"
    },
    {
     "data": {
      "image/png": "[encoded data removed]",
      "text/plain": [
       "<Figure size 640x480 with 1 Axes>"
      ]
     },
     "metadata": {},
     "output_type": "display_data"
    }
   ],
   "source": [
    "# KDE\n",
    "df[df.decision == \"Yes\"].distance.plot.kde()\n",
    "df[df.decision == \"No\"].distance.plot.kde()"
   ]
  },
  {
   "cell_type": "code",
   "execution_count": 40,
   "id": "91ae2da6-6d51-430e-847b-6e4c60e904f3",
   "metadata": {},
   "outputs": [
    {
     "name": "stdout",
     "output_type": "stream",
     "text": [
      "0.2401 0.0508\n",
      "0.4022 0.0675\n"
     ]
    }
   ],
   "source": [
    "p_mean = round(df[df.decision == \"Yes\"].distance.mean(), 4)\n",
    "p_std = round(df[df.decision == \"Yes\"].distance.std(), 4)\n",
    "n_mean = round(df[df.decision == \"No\"].distance.mean(), 4)\n",
    "n_std = round(df[df.decision == \"No\"].distance.std(), 4)\n",
    "print(p_mean, p_std)\n",
    "print(n_mean, n_std)"
   ]
  },
  {
   "cell_type": "code",
   "execution_count": 41,
   "id": "e1d2e69b-23e4-4f78-9fb0-3d070a9153ad",
   "metadata": {},
   "outputs": [
    {
     "name": "stdout",
     "output_type": "stream",
     "text": [
      "0.2909\n"
     ]
    }
   ],
   "source": [
    "sigma = 1 # 1, 2,..\n",
    "threshold = round(p_mean + sigma * p_std, 4)\n",
    "print(threshold)"
   ]
  },
  {
   "cell_type": "code",
   "execution_count": 42,
   "id": "6d14ed0c-48c1-4224-96e1-cb78b415b2ec",
   "metadata": {},
   "outputs": [
    {
     "data": {
      "text/html": [
       "<div>\n",
       "<style scoped>\n",
       "    .dataframe tbody tr th:only-of-type {\n",
       "        vertical-align: middle;\n",
       "    }\n",
       "\n",
       "    .dataframe tbody tr th {\n",
       "        vertical-align: top;\n",
       "    }\n",
       "\n",
       "    .dataframe thead th {\n",
       "        text-align: right;\n",
       "    }\n",
       "</style>\n",
       "<table border=\"1\" class=\"dataframe\">\n",
       "  <thead>\n",
       "    <tr style=\"text-align: right;\">\n",
       "      <th></th>\n",
       "      <th>file_x</th>\n",
       "      <th>file_y</th>\n",
       "      <th>decision</th>\n",
       "      <th>distance</th>\n",
       "      <th>prediction</th>\n",
       "    </tr>\n",
       "  </thead>\n",
       "  <tbody>\n",
       "    <tr>\n",
       "      <th>0</th>\n",
       "      <td>/opt/ml/project/data/celeb/cut_test/cut_Hajung...</td>\n",
       "      <td>/opt/ml/project/data/celeb/cut_test/cut_Hajung...</td>\n",
       "      <td>Yes</td>\n",
       "      <td>0.2228</td>\n",
       "      <td>Yes</td>\n",
       "    </tr>\n",
       "    <tr>\n",
       "      <th>1</th>\n",
       "      <td>/opt/ml/project/data/celeb/cut_test/cut_Hajung...</td>\n",
       "      <td>/opt/ml/project/data/celeb/cut_test/cut_Hajung...</td>\n",
       "      <td>Yes</td>\n",
       "      <td>0.1547</td>\n",
       "      <td>Yes</td>\n",
       "    </tr>\n",
       "    <tr>\n",
       "      <th>2</th>\n",
       "      <td>/opt/ml/project/data/celeb/cut_test/cut_Hajung...</td>\n",
       "      <td>/opt/ml/project/data/celeb/cut_test/cut_Hajung...</td>\n",
       "      <td>Yes</td>\n",
       "      <td>0.1811</td>\n",
       "      <td>Yes</td>\n",
       "    </tr>\n",
       "    <tr>\n",
       "      <th>3</th>\n",
       "      <td>/opt/ml/project/data/celeb/cut_test/cut_Hajung...</td>\n",
       "      <td>/opt/ml/project/data/celeb/cut_test/cut_Hajung...</td>\n",
       "      <td>Yes</td>\n",
       "      <td>0.2388</td>\n",
       "      <td>Yes</td>\n",
       "    </tr>\n",
       "    <tr>\n",
       "      <th>4</th>\n",
       "      <td>/opt/ml/project/data/celeb/cut_test/cut_Hajung...</td>\n",
       "      <td>/opt/ml/project/data/celeb/cut_test/cut_Hajung...</td>\n",
       "      <td>Yes</td>\n",
       "      <td>0.2065</td>\n",
       "      <td>Yes</td>\n",
       "    </tr>\n",
       "  </tbody>\n",
       "</table>\n",
       "</div>"
      ],
      "text/plain": [
       "                                              file_x  \\\n",
       "0  /opt/ml/project/data/celeb/cut_test/cut_Hajung...   \n",
       "1  /opt/ml/project/data/celeb/cut_test/cut_Hajung...   \n",
       "2  /opt/ml/project/data/celeb/cut_test/cut_Hajung...   \n",
       "3  /opt/ml/project/data/celeb/cut_test/cut_Hajung...   \n",
       "4  /opt/ml/project/data/celeb/cut_test/cut_Hajung...   \n",
       "\n",
       "                                              file_y decision  distance  \\\n",
       "0  /opt/ml/project/data/celeb/cut_test/cut_Hajung...      Yes    0.2228   \n",
       "1  /opt/ml/project/data/celeb/cut_test/cut_Hajung...      Yes    0.1547   \n",
       "2  /opt/ml/project/data/celeb/cut_test/cut_Hajung...      Yes    0.1811   \n",
       "3  /opt/ml/project/data/celeb/cut_test/cut_Hajung...      Yes    0.2388   \n",
       "4  /opt/ml/project/data/celeb/cut_test/cut_Hajung...      Yes    0.2065   \n",
       "\n",
       "  prediction  \n",
       "0        Yes  \n",
       "1        Yes  \n",
       "2        Yes  \n",
       "3        Yes  \n",
       "4        Yes  "
      ]
     },
     "execution_count": 42,
     "metadata": {},
     "output_type": "execute_result"
    }
   ],
   "source": [
    "df['prediction'] = 'No'\n",
    "idx = df[df.distance <= threshold].index\n",
    "df.loc[idx, 'prediction'] = 'Yes'\n",
    "df.head()"
   ]
  },
  {
   "cell_type": "code",
   "execution_count": 43,
   "id": "628b0e35-44a0-47e4-8c52-8fe68db4c05d",
   "metadata": {},
   "outputs": [
    {
     "name": "stdout",
     "output_type": "stream",
     "text": [
      "[[9454  446]\n",
      " [ 702 3798]]\n",
      "acc    :  0.9202777777777778\n",
      "recall :  0.844\n",
      "f1     :  0.8687099725526075\n",
      "precision :  0.8949104618284637\n"
     ]
    }
   ],
   "source": [
    "from sklearn.metrics import confusion_matrix\n",
    "cm = confusion_matrix(df.decision.values, df.prediction.values)\n",
    "print(cm)\n",
    "tn, fp, fn, tp = cm.ravel()\n",
    "recall = tp / (tp + fn)\n",
    "precision = tp / (tp + fp)\n",
    "accuracy = (tp + tn)/(tn + fp +  fn + tp)\n",
    "f1 = 2 * (precision * recall) / (precision + recall)\n",
    "print('acc    : ', accuracy)\n",
    "print('recall : ', recall)\n",
    "print('f1     : ', f1)\n",
    "print('precision : ', precision)"
   ]
  },
  {
   "cell_type": "code",
   "execution_count": 44,
   "id": "21d6202d-dd92-447c-bddc-54dfc0edeabd",
   "metadata": {},
   "outputs": [],
   "source": [
    "# device = torch.device('cuda:0' if torch.cuda.is_available() else 'cpu')\n",
    "# print('Running on device: {}'.format(device))"
   ]
  },
  {
   "cell_type": "code",
   "execution_count": 45,
   "id": "7cdb5582-88c6-45f5-a22e-06acf5439fd3",
   "metadata": {},
   "outputs": [],
   "source": [
    "def img_loader(path) :\n",
    "    try : \n",
    "        with open(path, 'rb') as f :\n",
    "            img = cv2.imread(path) \n",
    "            if len(img.shape) == 2 :\n",
    "                img = np.stack([img] * 3, 2)\n",
    "        \n",
    "            return img\n",
    "    except IOError :\n",
    "        print('Cannot load image' + path)"
   ]
  },
  {
   "cell_type": "code",
   "execution_count": 46,
   "id": "e51c5d59-8cff-43ca-9e2e-311b51264c39",
   "metadata": {},
   "outputs": [],
   "source": [
    "def img2embedding(image_path, tranform=None) :\n",
    "    img = img_loader(image_path)\n",
    "\n",
    "    if transforms is not None :\n",
    "        img = transform(img)\n",
    "    else :\n",
    "        img = torch.from_numpy(img)\n",
    "    img = img.unsqueeze(0)\n",
    "    # print(img.shape)\n",
    "    embedding = get_embedding(img)\n",
    "    return embedding"
   ]
  },
  {
   "cell_type": "code",
   "execution_count": 47,
   "id": "e2a9fbe7-b88b-4683-87e6-a1724eca5cb6",
   "metadata": {},
   "outputs": [],
   "source": [
    "def calculate(rank_list, train_label) :\n",
    "    count = 0\n",
    "    for dis, label in rank_list :\n",
    "        if label == train_label :\n",
    "            count += 1\n",
    "    return count"
   ]
  },
  {
   "cell_type": "code",
   "execution_count": 48,
   "id": "4cdff648-6eaf-4f9b-900f-a009baa9c26e",
   "metadata": {},
   "outputs": [],
   "source": [
    "def get_embedding_from_file(FILEPATH) :\n",
    "    model.eval()\n",
    "    with torch.no_grad() :\n",
    "        dataset = Crawling_Nomal_Dataset(FILEPATH, transforms=transform)\n",
    "        data_loader = data.DataLoader(dataset, batch_size=len(dataset), shuffle=True, num_workers=2, drop_last=False)\n",
    "        \n",
    "        for feature, path_label_list in data_loader :\n",
    "            embeddings = get_embedding(feature)\n",
    "            print(len(path_label_list[1]))\n",
    "            print(path_label_list[1])\n",
    "            print(embeddings.shape)\n",
    "            return embeddings, path_label_list"
   ]
  },
  {
   "cell_type": "code",
   "execution_count": 49,
   "id": "e0a97e45",
   "metadata": {},
   "outputs": [],
   "source": [
    "# train_path"
   ]
  },
  {
   "cell_type": "code",
   "execution_count": 50,
   "id": "d89cf9ed",
   "metadata": {},
   "outputs": [],
   "source": [
    "# for x in os.listdir(train_path):\n",
    "#     a =x.split('.')[-1]\n",
    "#     if a!='jpg':\n",
    "#         xx = x.split('.')[:-1]\n",
    "#         rename = xx[0] +'.jpg'\n",
    "#         old_path = os.path.join(train_path,x)\n",
    "#         new_path = os.path.join(train_path,rename)\n",
    "#         os.rename(old_path,new_path)"
   ]
  },
  {
   "cell_type": "code",
   "execution_count": null,
   "id": "715378a2",
   "metadata": {},
   "outputs": [],
   "source": []
  },
  {
   "cell_type": "code",
   "execution_count": 51,
   "id": "f033cac6",
   "metadata": {},
   "outputs": [],
   "source": [
    "# train_embeddings, path_label_list = get_embedding_from_file(train_path)\n"
   ]
  },
  {
   "cell_type": "code",
   "execution_count": 54,
   "id": "7f36d17a-d793-4d3d-8347-39370dda863a",
   "metadata": {},
   "outputs": [
    {
     "name": "stderr",
     "output_type": "stream",
     "text": [
      "/opt/conda/envs/deepface/lib/python3.10/site-packages/torchvision/transforms/functional.py:1603: UserWarning: The default value of the antialias parameter of all the resizing transforms (Resize(), RandomResizedCrop(), etc.) will change from None to True in v0.17, in order to be consistent across the PIL and Tensor backends. To suppress this warning, directly pass antialias=True (recommended, future default), antialias=None (current default, which means False for Tensors and True for PIL), or antialias=False (only works on Tensors - PIL will still use antialiasing). This also applies if you are using the inference transforms from the models weights: update the call to weights.transforms(antialias=True).\n",
      "  warnings.warn(\n"
     ]
    },
    {
     "name": "stdout",
     "output_type": "stream",
     "text": [
      "1000\n",
      "tensor([73, 80,  1,  5, 79, 64, 76, 29, 10, 23, 80, 22,  7, 28, 72, 98, 23, 98,\n",
      "        95, 73, 36, 28, 68, 73, 49, 99, 56, 89, 91, 68, 21,  5, 61,  5, 90, 21,\n",
      "        38, 52, 25, 76, 16, 51, 55, 28, 58,  3, 44, 21, 42, 63, 23, 33, 89, 38,\n",
      "        27, 68,  4, 84,  0, 69, 59, 56, 88, 82, 34, 26, 22, 18, 84, 48,  9, 59,\n",
      "        16, 67, 40, 83, 76, 36, 12,  2,  9, 92, 82, 93, 43, 97, 72, 22, 28, 57,\n",
      "        95, 12, 77, 33, 36, 87, 20, 91, 89, 61, 52, 89, 63, 86, 66, 33, 29, 45,\n",
      "        22, 93, 65, 73, 20, 24, 30, 98, 39, 40, 81, 94, 12, 28, 24, 29,  1, 73,\n",
      "        24, 75, 33, 28, 52, 59, 84, 83, 98, 41, 26, 93, 97, 32, 53, 91, 64, 48,\n",
      "         0, 72, 10, 22, 65, 38, 36, 97, 90,  4, 84, 17,  5, 53, 40, 75, 43, 61,\n",
      "        56, 81, 14, 35, 55, 30, 37, 47, 93, 92, 15, 59, 34, 89, 71, 74, 98, 80,\n",
      "        94, 12, 81,  2, 88, 50, 86, 51, 20, 54, 70, 31, 20,  5, 97, 60, 30, 99,\n",
      "        71, 44, 70, 18, 97, 34, 30, 15, 93, 42,  1, 19, 60, 45, 90, 91, 15, 87,\n",
      "        27, 94, 27, 75, 73, 71,  2, 60, 99, 83, 70, 28, 56, 76, 77, 62, 27, 11,\n",
      "        36, 69,  9, 25, 83, 96, 11, 71,  0, 11, 46, 32,  9, 65, 92, 37, 58, 91,\n",
      "        55, 22, 98, 51, 98, 88, 15, 61, 50, 54, 37, 35, 40, 35, 80, 77, 16, 50,\n",
      "        65, 92, 18, 87, 42, 28, 90,  4, 64, 84, 57, 52, 85, 67, 88, 52, 75,  0,\n",
      "         6, 62, 86, 59, 65, 98, 78, 28,  1, 37, 77, 12, 55, 72, 24, 84, 79, 35,\n",
      "        72, 62, 63, 13, 12, 16, 54, 78, 45,  6, 55, 54,  4, 56, 18,  3, 67, 76,\n",
      "        82,  7, 56, 82, 26, 21, 85, 21, 23, 85, 89, 46, 18, 86, 33, 59, 46, 62,\n",
      "         1, 43,  8, 66, 46, 92, 16, 66, 22, 15, 50, 91, 74, 94, 51, 67, 54, 86,\n",
      "        37, 90, 56, 68, 70, 89,  8, 69, 93, 23, 10,  7,  4, 63, 43, 22, 43, 93,\n",
      "        15,  3, 13, 48, 36, 25, 23, 22,  0, 96, 66, 43, 19, 47, 35, 85, 70, 10,\n",
      "        40, 14, 57, 61, 90, 19, 11, 16, 91, 17, 54, 53, 34,  6, 73, 89,  4, 49,\n",
      "        11, 83, 95, 45, 94, 41,  2, 59, 56, 48,  7, 63, 31, 24, 17, 34, 62, 33,\n",
      "        28, 88,  9, 77, 71, 44, 57, 97, 13,  2, 23, 26, 74, 54, 80, 57, 67,  8,\n",
      "        69, 65,  6, 10, 55, 63, 29, 17, 25, 65, 78, 19, 64, 61, 99, 60, 25, 84,\n",
      "        74, 53, 16, 67, 82, 21, 71, 61, 69, 17, 57,  5, 50, 31, 40,  9, 53, 80,\n",
      "        11, 82, 97, 51, 70, 30, 95, 24, 37, 42, 41, 96, 83, 87, 46, 71, 25, 71,\n",
      "        32, 81, 85, 51, 20, 29, 81, 19,  9, 58, 95, 85, 47, 54,  5, 32, 41, 81,\n",
      "        11, 33,  1, 25, 46, 89, 43, 57, 60, 70, 35, 75, 37, 29, 39, 72, 45, 70,\n",
      "        61, 36, 38, 39,  3, 38, 35, 32, 82, 58, 84, 56,  5, 52, 89, 41,  2, 97,\n",
      "        35, 27, 97, 64, 95, 74, 99, 87, 58, 36, 53, 41, 87, 12, 96, 90, 17, 94,\n",
      "        30, 35, 95, 44, 33, 48, 11,  8, 84, 31, 40, 73, 16, 66,  6, 64, 97, 94,\n",
      "         5, 78, 55,  0, 58, 87, 12, 92, 14, 72, 79, 33, 99, 68, 62, 64, 44, 26,\n",
      "        21, 91, 94, 18, 85, 42, 77, 54, 38, 80, 52, 81, 25,  3, 96, 42, 78, 37,\n",
      "        76, 92,  7, 58, 32,  0, 15, 49, 30, 21, 56, 81, 52, 49, 83,  4, 40, 69,\n",
      "         7, 55, 47, 62, 18, 19, 79, 39, 41, 70, 47, 95, 30, 23, 74, 65,  2, 66,\n",
      "        81, 25, 27, 50, 75, 27, 32, 20, 68, 29, 79, 74, 87, 31, 31, 79, 75,  3,\n",
      "         9, 32, 53, 43, 27, 86, 57, 67, 13, 48,  8, 61, 64, 47, 76, 60, 60,  4,\n",
      "        79, 41,  4, 76, 39, 16, 71, 18, 41, 38, 25, 94, 77, 19, 95, 58, 47, 69,\n",
      "         1, 82, 52, 21, 19, 34, 14, 17, 73, 60, 38, 10, 68, 36, 24, 13, 62, 49,\n",
      "        20, 36,  6, 99, 64, 32, 76, 81, 31, 10, 69, 14, 59, 39, 48, 46, 98, 98,\n",
      "        15, 46,  8,  3, 96, 84, 24, 64, 44, 32, 17, 27, 85, 46, 18, 82, 67, 29,\n",
      "        65, 96,  7, 61, 13, 49, 39, 86, 88, 34, 59, 39, 66, 11, 31,  3, 52,  2,\n",
      "         1, 55, 68, 90, 30, 60, 93, 80, 38, 79, 44, 78, 75, 13, 14, 19, 37, 60,\n",
      "        69, 38, 42, 68, 17,  9, 54, 50, 31, 72,  5, 14, 15, 69, 49, 39, 49, 77,\n",
      "        14, 19, 26, 58, 11, 95, 76, 41, 92, 14, 90, 49, 96, 55, 47, 12, 86, 68,\n",
      "         0, 43, 23, 16, 48, 42, 29, 78, 20, 62, 13, 99, 75, 79, 75, 45, 82, 10,\n",
      "        72, 87,  8, 96, 45,  6, 10, 71,  6,  4, 33, 34, 50, 31, 47, 86, 51, 72,\n",
      "        17, 99, 50, 43, 51, 67, 13,  6, 96,  7, 66, 57, 12, 63, 83,  0,  2,  9,\n",
      "        35, 93, 63, 83, 26, 74,  8, 87, 91, 26, 79,  7, 83, 24, 63, 50, 42, 34,\n",
      "        42, 40, 23, 78, 34, 27, 77, 44, 10, 45, 58, 40, 51,  3, 99,  7, 53, 88,\n",
      "        57, 62, 18, 78, 63, 67, 86, 91, 47,  6, 45, 85, 65,  8, 74, 85, 49, 88,\n",
      "         3, 88, 44, 20, 70, 45,  2, 46, 53, 92, 59,  1, 20, 78, 39,  8, 93, 80,\n",
      "        51, 21,  1, 90, 74, 48, 15, 37, 13, 22, 92, 24, 29, 30, 88, 14, 66, 80,\n",
      "        94, 26, 66, 44,  0, 26, 48, 77, 73, 53])\n",
      "(1000, 512)\n"
     ]
    }
   ],
   "source": [
    "test_embeddings, path_label_list = get_embedding_from_file(test_path)\n"
   ]
  },
  {
   "cell_type": "code",
   "execution_count": 55,
   "id": "280026d8-0632-4657-afa7-afc5a47ace3f",
   "metadata": {},
   "outputs": [
    {
     "name": "stderr",
     "output_type": "stream",
     "text": [
      "  0%|          | 0/1000 [00:00<?, ?it/s]/opt/conda/envs/deepface/lib/python3.10/site-packages/torchvision/transforms/functional.py:1603: UserWarning: The default value of the antialias parameter of all the resizing transforms (Resize(), RandomResizedCrop(), etc.) will change from None to True in v0.17, in order to be consistent across the PIL and Tensor backends. To suppress this warning, directly pass antialias=True (recommended, future default), antialias=None (current default, which means False for Tensors and True for PIL), or antialias=False (only works on Tensors - PIL will still use antialiasing). This also applies if you are using the inference transforms from the models weights: update the call to weights.transforms(antialias=True).\n",
      "  warnings.warn(\n",
      "/opt/conda/envs/deepface/lib/python3.10/site-packages/torchvision/transforms/functional.py:1603: UserWarning: The default value of the antialias parameter of all the resizing transforms (Resize(), RandomResizedCrop(), etc.) will change from None to True in v0.17, in order to be consistent across the PIL and Tensor backends. To suppress this warning, directly pass antialias=True (recommended, future default), antialias=None (current default, which means False for Tensors and True for PIL), or antialias=False (only works on Tensors - PIL will still use antialiasing). This also applies if you are using the inference transforms from the models weights: update the call to weights.transforms(antialias=True).\n",
      "  warnings.warn(\n",
      " 97%|█████████▋| 974/1000 [00:25<00:00, 38.29it/s]/tmp/ipykernel_5407/3027102865.py:11: RuntimeWarning: invalid value encountered in arccos\n",
      "  dist = np.arccos(similarity) / math.pi\n",
      " 99%|█████████▉| 992/1000 [00:25<00:00, 38.29it/s]\n"
     ]
    },
    {
     "ename": "AttributeError",
     "evalue": "Caught AttributeError in DataLoader worker process 0.\nOriginal Traceback (most recent call last):\n  File \"/opt/conda/envs/deepface/lib/python3.10/site-packages/torch/utils/data/_utils/worker.py\", line 308, in _worker_loop\n    data = fetcher.fetch(index)\n  File \"/opt/conda/envs/deepface/lib/python3.10/site-packages/torch/utils/data/_utils/fetch.py\", line 51, in fetch\n    data = [self.dataset[idx] for idx in possibly_batched_index]\n  File \"/opt/conda/envs/deepface/lib/python3.10/site-packages/torch/utils/data/_utils/fetch.py\", line 51, in <listcomp>\n    data = [self.dataset[idx] for idx in possibly_batched_index]\n  File \"/opt/ml/project/insightface/recognition/level3_cv_finalproject-cv-14/Crawling_Dataset.py\", line 152, in __getitem__\n    img = self.loader(image_path)\n  File \"/opt/ml/project/insightface/recognition/level3_cv_finalproject-cv-14/Crawling_Dataset.py\", line 17, in img_loader\n    if len(img.shape) == 2 :\nAttributeError: 'NoneType' object has no attribute 'shape'\n",
     "output_type": "error",
     "traceback": [
      "\u001b[0;31m---------------------------------------------------------------------------\u001b[0m",
      "\u001b[0;31mAttributeError\u001b[0m                            Traceback (most recent call last)",
      "\u001b[1;32m/opt/ml/project/insightface/recognition/level3_cv_finalproject-cv-14/eval_test_v3.ipynb 셀 40\u001b[0m in \u001b[0;36m<cell line: 5>\u001b[0;34m()\u001b[0m\n\u001b[1;32m      <a href='vscode-notebook-cell://ssh-remote%2B49.50.174.162/opt/ml/project/insightface/recognition/level3_cv_finalproject-cv-14/eval_test_v3.ipynb#X54sdnNjb2RlLXJlbW90ZQ%3D%3D?line=3'>4</a>\u001b[0m model\u001b[39m.\u001b[39meval()\n\u001b[1;32m      <a href='vscode-notebook-cell://ssh-remote%2B49.50.174.162/opt/ml/project/insightface/recognition/level3_cv_finalproject-cv-14/eval_test_v3.ipynb#X54sdnNjb2RlLXJlbW90ZQ%3D%3D?line=4'>5</a>\u001b[0m \u001b[39mwith\u001b[39;00m torch\u001b[39m.\u001b[39mno_grad():\n\u001b[1;32m      <a href='vscode-notebook-cell://ssh-remote%2B49.50.174.162/opt/ml/project/insightface/recognition/level3_cv_finalproject-cv-14/eval_test_v3.ipynb#X54sdnNjb2RlLXJlbW90ZQ%3D%3D?line=5'>6</a>\u001b[0m     \u001b[39m# for idx,(feature, b) in enumerate(tqdm.tqdm(train_embedding_loader, leave=True)) :\u001b[39;00m\n\u001b[0;32m----> <a href='vscode-notebook-cell://ssh-remote%2B49.50.174.162/opt/ml/project/insightface/recognition/level3_cv_finalproject-cv-14/eval_test_v3.ipynb#X54sdnNjb2RlLXJlbW90ZQ%3D%3D?line=6'>7</a>\u001b[0m     \u001b[39mfor\u001b[39;00m idx,(feature, b) \u001b[39min\u001b[39;00m \u001b[39menumerate\u001b[39m(tqdm\u001b[39m.\u001b[39mtqdm(train_data_loader, leave\u001b[39m=\u001b[39m\u001b[39mTrue\u001b[39;00m)) :\n\u001b[1;32m      <a href='vscode-notebook-cell://ssh-remote%2B49.50.174.162/opt/ml/project/insightface/recognition/level3_cv_finalproject-cv-14/eval_test_v3.ipynb#X54sdnNjb2RlLXJlbW90ZQ%3D%3D?line=7'>8</a>\u001b[0m         train_embedding \u001b[39m=\u001b[39m get_embedding(feature)\n\u001b[1;32m      <a href='vscode-notebook-cell://ssh-remote%2B49.50.174.162/opt/ml/project/insightface/recognition/level3_cv_finalproject-cv-14/eval_test_v3.ipynb#X54sdnNjb2RlLXJlbW90ZQ%3D%3D?line=8'>9</a>\u001b[0m         \u001b[39m# print(train_label)\u001b[39;00m\n",
      "File \u001b[0;32m/opt/conda/envs/deepface/lib/python3.10/site-packages/tqdm/std.py:1178\u001b[0m, in \u001b[0;36mtqdm.__iter__\u001b[0;34m(self)\u001b[0m\n\u001b[1;32m   1175\u001b[0m time \u001b[39m=\u001b[39m \u001b[39mself\u001b[39m\u001b[39m.\u001b[39m_time\n\u001b[1;32m   1177\u001b[0m \u001b[39mtry\u001b[39;00m:\n\u001b[0;32m-> 1178\u001b[0m     \u001b[39mfor\u001b[39;00m obj \u001b[39min\u001b[39;00m iterable:\n\u001b[1;32m   1179\u001b[0m         \u001b[39myield\u001b[39;00m obj\n\u001b[1;32m   1180\u001b[0m         \u001b[39m# Update and possibly print the progressbar.\u001b[39;00m\n\u001b[1;32m   1181\u001b[0m         \u001b[39m# Note: does not call self.update(1) for speed optimisation.\u001b[39;00m\n",
      "File \u001b[0;32m/opt/conda/envs/deepface/lib/python3.10/site-packages/torch/utils/data/dataloader.py:633\u001b[0m, in \u001b[0;36m_BaseDataLoaderIter.__next__\u001b[0;34m(self)\u001b[0m\n\u001b[1;32m    630\u001b[0m \u001b[39mif\u001b[39;00m \u001b[39mself\u001b[39m\u001b[39m.\u001b[39m_sampler_iter \u001b[39mis\u001b[39;00m \u001b[39mNone\u001b[39;00m:\n\u001b[1;32m    631\u001b[0m     \u001b[39m# TODO(https://github.com/pytorch/pytorch/issues/76750)\u001b[39;00m\n\u001b[1;32m    632\u001b[0m     \u001b[39mself\u001b[39m\u001b[39m.\u001b[39m_reset()  \u001b[39m# type: ignore[call-arg]\u001b[39;00m\n\u001b[0;32m--> 633\u001b[0m data \u001b[39m=\u001b[39m \u001b[39mself\u001b[39;49m\u001b[39m.\u001b[39;49m_next_data()\n\u001b[1;32m    634\u001b[0m \u001b[39mself\u001b[39m\u001b[39m.\u001b[39m_num_yielded \u001b[39m+\u001b[39m\u001b[39m=\u001b[39m \u001b[39m1\u001b[39m\n\u001b[1;32m    635\u001b[0m \u001b[39mif\u001b[39;00m \u001b[39mself\u001b[39m\u001b[39m.\u001b[39m_dataset_kind \u001b[39m==\u001b[39m _DatasetKind\u001b[39m.\u001b[39mIterable \u001b[39mand\u001b[39;00m \\\n\u001b[1;32m    636\u001b[0m         \u001b[39mself\u001b[39m\u001b[39m.\u001b[39m_IterableDataset_len_called \u001b[39mis\u001b[39;00m \u001b[39mnot\u001b[39;00m \u001b[39mNone\u001b[39;00m \u001b[39mand\u001b[39;00m \\\n\u001b[1;32m    637\u001b[0m         \u001b[39mself\u001b[39m\u001b[39m.\u001b[39m_num_yielded \u001b[39m>\u001b[39m \u001b[39mself\u001b[39m\u001b[39m.\u001b[39m_IterableDataset_len_called:\n",
      "File \u001b[0;32m/opt/conda/envs/deepface/lib/python3.10/site-packages/torch/utils/data/dataloader.py:1345\u001b[0m, in \u001b[0;36m_MultiProcessingDataLoaderIter._next_data\u001b[0;34m(self)\u001b[0m\n\u001b[1;32m   1343\u001b[0m \u001b[39melse\u001b[39;00m:\n\u001b[1;32m   1344\u001b[0m     \u001b[39mdel\u001b[39;00m \u001b[39mself\u001b[39m\u001b[39m.\u001b[39m_task_info[idx]\n\u001b[0;32m-> 1345\u001b[0m     \u001b[39mreturn\u001b[39;00m \u001b[39mself\u001b[39;49m\u001b[39m.\u001b[39;49m_process_data(data)\n",
      "File \u001b[0;32m/opt/conda/envs/deepface/lib/python3.10/site-packages/torch/utils/data/dataloader.py:1371\u001b[0m, in \u001b[0;36m_MultiProcessingDataLoaderIter._process_data\u001b[0;34m(self, data)\u001b[0m\n\u001b[1;32m   1369\u001b[0m \u001b[39mself\u001b[39m\u001b[39m.\u001b[39m_try_put_index()\n\u001b[1;32m   1370\u001b[0m \u001b[39mif\u001b[39;00m \u001b[39misinstance\u001b[39m(data, ExceptionWrapper):\n\u001b[0;32m-> 1371\u001b[0m     data\u001b[39m.\u001b[39;49mreraise()\n\u001b[1;32m   1372\u001b[0m \u001b[39mreturn\u001b[39;00m data\n",
      "File \u001b[0;32m/opt/conda/envs/deepface/lib/python3.10/site-packages/torch/_utils.py:644\u001b[0m, in \u001b[0;36mExceptionWrapper.reraise\u001b[0;34m(self)\u001b[0m\n\u001b[1;32m    640\u001b[0m \u001b[39mexcept\u001b[39;00m \u001b[39mTypeError\u001b[39;00m:\n\u001b[1;32m    641\u001b[0m     \u001b[39m# If the exception takes multiple arguments, don't try to\u001b[39;00m\n\u001b[1;32m    642\u001b[0m     \u001b[39m# instantiate since we don't know how to\u001b[39;00m\n\u001b[1;32m    643\u001b[0m     \u001b[39mraise\u001b[39;00m \u001b[39mRuntimeError\u001b[39;00m(msg) \u001b[39mfrom\u001b[39;00m \u001b[39mNone\u001b[39;00m\n\u001b[0;32m--> 644\u001b[0m \u001b[39mraise\u001b[39;00m exception\n",
      "\u001b[0;31mAttributeError\u001b[0m: Caught AttributeError in DataLoader worker process 0.\nOriginal Traceback (most recent call last):\n  File \"/opt/conda/envs/deepface/lib/python3.10/site-packages/torch/utils/data/_utils/worker.py\", line 308, in _worker_loop\n    data = fetcher.fetch(index)\n  File \"/opt/conda/envs/deepface/lib/python3.10/site-packages/torch/utils/data/_utils/fetch.py\", line 51, in fetch\n    data = [self.dataset[idx] for idx in possibly_batched_index]\n  File \"/opt/conda/envs/deepface/lib/python3.10/site-packages/torch/utils/data/_utils/fetch.py\", line 51, in <listcomp>\n    data = [self.dataset[idx] for idx in possibly_batched_index]\n  File \"/opt/ml/project/insightface/recognition/level3_cv_finalproject-cv-14/Crawling_Dataset.py\", line 152, in __getitem__\n    img = self.loader(image_path)\n  File \"/opt/ml/project/insightface/recognition/level3_cv_finalproject-cv-14/Crawling_Dataset.py\", line 17, in img_loader\n    if len(img.shape) == 2 :\nAttributeError: 'NoneType' object has no attribute 'shape'\n"
     ]
    }
   ],
   "source": [
    "TOP_NUM = 10\n",
    "eu_ten_check_list = []\n",
    "correct_count_dict = defaultdict(lambda : 0)\n",
    "model.eval()\n",
    "with torch.no_grad():\n",
    "    # for idx,(feature, b) in enumerate(tqdm.tqdm(train_embedding_loader, leave=True)) :\n",
    "    for idx,(feature, b) in enumerate(tqdm.tqdm(train_data_loader, leave=True)) :\n",
    "        train_embedding = get_embedding(feature)\n",
    "        # print(train_label)\n",
    "        train_label = b[1].tolist()[0]\n",
    "        train_image_path = b[0][0]\n",
    "        eu_label_embedding_list = []\n",
    "\n",
    "        eu_dist = distance(train_embedding, test_embeddings, 1)\n",
    "        test_label_list = path_label_list[1].tolist()\n",
    "        \n",
    "        for pair in zip(eu_dist, test_label_list) :\n",
    "            eu_label_embedding_list.append(pair)\n",
    "\n",
    "        eu_label_embedding_list = sorted(eu_label_embedding_list)\n",
    "        eu_top_rank_list = eu_label_embedding_list[:TOP_NUM]\n",
    "        \n",
    "        count = calculate(eu_top_rank_list, train_label)\n",
    "        correct_count_dict[train_label] += count\n",
    "        if count < 7 :\n",
    "            eu_ten_check_list.append((train_image_path,train_label))"
   ]
  },
  {
   "cell_type": "code",
   "execution_count": null,
   "id": "deb2426b-2ca4-4c96-a96b-c83d09872e9a",
   "metadata": {},
   "outputs": [
    {
     "name": "stdout",
     "output_type": "stream",
     "text": [
      "{0: 'Songjihyo', 1: 'Jinsunkyu', 2: 'Iu', 3: 'Leekyunggyu', 4: 'Kimeungsoo', 5: 'Kimbumrong', 6: 'Jeonjihyeon', 7: 'Chunwoohee', 8: 'Kimyoojung', 9: 'Wonbin', 10: 'Kimjongjin', 11: 'Jungkook', 12: 'Yoonyeojung', 13: 'Chaesira', 14: 'Hayumi', 15: 'Shinsekyung', 16: 'Jojeongseok', 17: 'Kimhyeseon', 18: 'Hansohee', 19: 'Kimsangjoong', 20: 'Meenoi', 21: 'Hangain', 22: 'Ongseogwu', 23: 'Limsoojung', 24: 'Choisoojong', 25: 'Jujihun', 26: 'Kwonhaehyo', 27: 'Shinyeeun', 28: 'Hanhyojoo', 29: 'Wonmikyung', 30: 'Leemangi', 31: 'Yeojingoo', 32: 'Choibulam', 33: 'Leedongwook', 34: 'Chahwayeon', 35: 'Kimsarang', 36: 'Kimgwanggyu', 37: 'Namkoongmin', 38: 'Ahnyoungmi', 39: 'Hanyeseul', 40: 'Yooyeonseok', 41: 'Leeseungki', 42: 'Yookseongjae', 43: 'Leemisuk', 44: 'Kangsuyeon', 45: 'Yimsiwan', 46: 'Parkjiseong', 47: 'Leegookju', 48: 'Jungboseok', 49: 'Choiran', 50: 'Namjoohyuk', 51: 'Sonyejin', 52: 'Hahuirah', 53: 'Choiminsik', 54: 'Parknarae', 55: 'Yoonyuseon', 56: 'Chungangleul', 57: 'Leehwihyang', 58: 'Jangdoyoun', 59: 'Ohyeonseo', 60: 'Parkjaejung', 61: 'Taeyeon', 62: 'Leeseungshin', 63: 'Songhyekyo', 64: 'Leehyori', 65: 'Jungaeri', 66: 'Sonhuengmin', 67: 'Shinaera', 68: 'Jojaehyeon', 69: 'Parkjungyu', 70: 'Jungkyungho', 71: 'Karina', 72: 'Hajungwoo', 73: 'Kominsi', 74: 'Leeaeran', 75: 'Leedohyun', 76: 'Songkang', 77: 'Shimhyejin', 78: 'BTSsuga', 79: 'Suzy', 80: 'Hyonbin', 81: 'Bibi', 82: 'Seojunghee', 83: 'SongJoongki', 84: 'BTSjhin', 85: 'Parkhaseon', 86: 'Ohyoungsil', 87: 'Leeminjung', 88: 'Kimhangook', 89: 'Leebyungjoon', 90: 'Kimyeongho', 91: 'Annaisang', 92: 'Seongdongil', 93: 'Leemujin', 94: 'Angilgang', 95: 'Kimdami', 96: 'Jokyuhyun', 97: 'Gangdongwon', 98: 'Leekangin', 99: 'Sonsukku'}\n"
     ]
    }
   ],
   "source": [
    "NUM2NAME_dict = train_dataset.get_label_dict_NUM2NAME()\n",
    "NAME2NUM_dict = train_dataset.get_label_dict_NAME2NUM()\n",
    "print(NUM2NAME_dict)"
   ]
  },
  {
   "cell_type": "code",
   "execution_count": null,
   "id": "47d448ce-6e47-4603-ad5a-60b9fe5b0254",
   "metadata": {},
   "outputs": [
    {
     "data": {
      "text/plain": [
       "<BarContainer object of 57 artists>"
      ]
     },
     "execution_count": 41,
     "metadata": {},
     "output_type": "execute_result"
    },
    {
     "data": {
      "image/png": "[encoded data removed]",
      "text/plain": [
       "<Figure size 2500x1000 with 1 Axes>"
      ]
     },
     "metadata": {},
     "output_type": "display_data"
    }
   ],
   "source": [
    "item = correct_count_dict.items()\n",
    "item = sorted(item)\n",
    "name = []\n",
    "counts = []\n",
    "for label, count in item :\n",
    "    name.append(NUM2NAME_dict[label])\n",
    "    counts.append(count)\n",
    "plt.figure(figsize=(25,10))\n",
    "plt.bar(name, counts)"
   ]
  },
  {
   "cell_type": "code",
   "execution_count": null,
   "id": "81de734a-72bf-4fe4-a065-f1e28bf57697",
   "metadata": {},
   "outputs": [],
   "source": []
  },
  {
   "cell_type": "code",
   "execution_count": null,
   "id": "345d8bca",
   "metadata": {},
   "outputs": [],
   "source": []
  }
 ],
 "metadata": {
  "kernelspec": {
   "display_name": "Python 3 (ipykernel)",
   "language": "python",
   "name": "python3"
  },
  "language_info": {
   "codemirror_mode": {
    "name": "ipython",
    "version": 3
   },
   "file_extension": ".py",
   "mimetype": "text/x-python",
   "name": "python",
   "nbconvert_exporter": "python",
   "pygments_lexer": "ipython3",
   "version": "3.10.11"
  }
 },
 "nbformat": 4,
 "nbformat_minor": 5
}
