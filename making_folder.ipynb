{
 "cells": [
  {
   "cell_type": "code",
   "execution_count": 7,
   "metadata": {},
   "outputs": [],
   "source": [
    "import os\n",
    "import shutil"
   ]
  },
  {
   "cell_type": "code",
   "execution_count": 4,
   "metadata": {},
   "outputs": [],
   "source": [
    "root = \"/opt/ml/project/dataset/celeb/\"\n",
    "test_imgs = os.listdir(\"/opt/ml/project/dataset/celeb/cut_test\")\n",
    "train_imgs = os.listdir(\"/opt/ml/project/dataset/celeb/cut_train\")"
   ]
  },
  {
   "cell_type": "code",
   "execution_count": 6,
   "metadata": {},
   "outputs": [
    {
     "data": {
      "text/plain": [
       "'Bibi'"
      ]
     },
     "execution_count": 6,
     "metadata": {},
     "output_type": "execute_result"
    }
   ],
   "source": [
    "test_imgs[0].split(\"_\")[1]"
   ]
  },
  {
   "cell_type": "code",
   "execution_count": null,
   "metadata": {},
   "outputs": [],
   "source": [
    "names = []\n",
    "for img in test_imgs:\n",
    "    if img.split(\"_\")[1] not in names:\n",
    "        names.append(img.split(\"_\")[1])\n",
    "        os.mkdir(\"/opt/ml/project/dataset/Celeb/test/\"+img.split(\"_\")[1])\n",
    "        os.mkdir(\"/opt/ml/project/dataset/Celeb/train/\"+img.split(\"_\")[1])"
   ]
  },
  {
   "cell_type": "code",
   "execution_count": 5,
   "metadata": {},
   "outputs": [
    {
     "data": {
      "text/plain": [
       "'/opt/ml/project/dataset/celeb/cut_Bibi_43.jpg'"
      ]
     },
     "execution_count": 5,
     "metadata": {},
     "output_type": "execute_result"
    }
   ],
   "source": [
    "root+test_imgs[0]"
   ]
  },
  {
   "cell_type": "code",
   "execution_count": 10,
   "metadata": {},
   "outputs": [],
   "source": [
    "for img in test_imgs:\n",
    "    shutil.copyfile(root+\"cut_test/\"+img, \"/opt/ml/project/dataset/Celeb/test/\"+img.split(\"_\")[1]+\"/\"+img)"
   ]
  },
  {
   "cell_type": "code",
   "execution_count": null,
   "metadata": {},
   "outputs": [],
   "source": [
    "for img in train_imgs:\n",
    "    shutil.copyfile(root+\"cut_train/\"+img, \"/opt/ml/project/dataset/Celeb/train/\"+img.split(\"_\")[1]+\"/\"+img)"
   ]
  },
  {
   "cell_type": "code",
   "execution_count": null,
   "metadata": {},
   "outputs": [],
   "source": []
  }
 ],
 "metadata": {
  "kernelspec": {
   "display_name": "base",
   "language": "python",
   "name": "python3"
  },
  "language_info": {
   "codemirror_mode": {
    "name": "ipython",
    "version": 3
   },
   "file_extension": ".py",
   "mimetype": "text/x-python",
   "name": "python",
   "nbconvert_exporter": "python",
   "pygments_lexer": "ipython3",
   "version": "3.8.5"
  },
  "orig_nbformat": 4
 },
 "nbformat": 4,
 "nbformat_minor": 2
}
