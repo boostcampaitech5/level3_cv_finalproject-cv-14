{
 "cells": [
  {
   "cell_type": "code",
   "execution_count": 1,
   "id": "45ab1ab5-bfd9-4a00-9b1a-10e79754ae64",
   "metadata": {},
   "outputs": [
    {
     "name": "stderr",
     "output_type": "stream",
     "text": [
      "/opt/conda/envs/deepface/lib/python3.10/site-packages/tqdm/auto.py:21: TqdmWarning: IProgress not found. Please update jupyter and ipywidgets. See https://ipywidgets.readthedocs.io/en/stable/user_install.html\n",
      "  from .autonotebook import tqdm as notebook_tqdm\n"
     ]
    }
   ],
   "source": [
    "from torch.utils.data import Dataset, DataLoader\n",
    "from Crawling_Dataset import Crawling_Nomal_Dataset\n",
    "import torch\n",
    "import cv2 \n",
    "import os\n",
    "import numpy as np\n",
    "from torchvision import transforms\n",
    "import torch.utils.data as data\n",
    "from facenet_pytorch import MTCNN, InceptionResnetV1, fixed_image_standardization\n",
    "import math\n",
    "import tqdm as tqdm\n",
    "import matplotlib.pyplot as plt\n",
    "from PIL import Image\n",
    "from collections import defaultdict\n",
    "from torchvision.transforms import Resize\n",
    "# from cheff import bring"
   ]
  },
  {
   "cell_type": "code",
   "execution_count": 2,
   "id": "4aec48f1-5454-4351-a2ee-12eaee331604",
   "metadata": {},
   "outputs": [],
   "source": [
    "test_path = '/opt/ml/project/data/celeb/cut_test'\n",
    "train_path = '/opt/ml/project/data/celeb/cut_train'"
   ]
  },
  {
   "cell_type": "code",
   "execution_count": 3,
   "id": "c5afe335-5ec1-44ff-b474-9edde7fab231",
   "metadata": {},
   "outputs": [],
   "source": [
    "transform = transforms.Compose([\n",
    "        np.float32,\n",
    "        transforms.ToTensor(),  # range [0, 255] -> [0.0, 1.0]\n",
    "        Resize((112, 112)),\n",
    "        fixed_image_standardization\n",
    "    ])"
   ]
  },
  {
   "cell_type": "code",
   "execution_count": 4,
   "id": "190ea351-0040-487b-a0fe-2ea5d13eda56",
   "metadata": {},
   "outputs": [],
   "source": [
    "test_dataset = Crawling_Nomal_Dataset(test_path, transforms=transform)\n",
    "train_dataset = Crawling_Nomal_Dataset(train_path, transforms=transform)\n",
    "test_data_loader = data.DataLoader(test_dataset, batch_size=1, shuffle=True, num_workers=2, drop_last=False)\n",
    "train_data_loader = data.DataLoader(train_dataset, batch_size=1, shuffle=True, num_workers=2, drop_last=False)"
   ]
  },
  {
   "cell_type": "code",
   "execution_count": 5,
   "id": "58b003aa-0bff-4a3d-99d2-58be1435c990",
   "metadata": {},
   "outputs": [],
   "source": [
    "def get_label_per_path_dict(data_loader) :\n",
    "    identities = defaultdict(lambda : list())\n",
    "    # dict = {label1 : [image_path_1.jpg,image_path_2.jpg,....],\n",
    "    #        label2 : [image_path_1.jpg,image_path_2.jpg,....],...}\n",
    "    \n",
    "    for img,  path_label in data_loader :\n",
    "        img_path = path_label[0][0]\n",
    "        img_label = path_label[1].tolist()[0]\n",
    "        # print(img_path, img_label, sep='\\n')\n",
    "        identities[img_label].append(img_path)\n",
    "    return identities"
   ]
  },
  {
   "cell_type": "code",
   "execution_count": 6,
   "id": "b4951265-550e-418d-a3b9-68c494cbc049",
   "metadata": {},
   "outputs": [
    {
     "name": "stderr",
     "output_type": "stream",
     "text": [
      "/opt/conda/envs/deepface/lib/python3.10/site-packages/torchvision/transforms/functional.py:1603: UserWarning: The default value of the antialias parameter of all the resizing transforms (Resize(), RandomResizedCrop(), etc.) will change from None to True in v0.17, in order to be consistent across the PIL and Tensor backends. To suppress this warning, directly pass antialias=True (recommended, future default), antialias=None (current default, which means False for Tensors and True for PIL), or antialias=False (only works on Tensors - PIL will still use antialiasing). This also applies if you are using the inference transforms from the models weights: update the call to weights.transforms(antialias=True).\n",
      "  warnings.warn(\n",
      "/opt/conda/envs/deepface/lib/python3.10/site-packages/torchvision/transforms/functional.py:1603: UserWarning: The default value of the antialias parameter of all the resizing transforms (Resize(), RandomResizedCrop(), etc.) will change from None to True in v0.17, in order to be consistent across the PIL and Tensor backends. To suppress this warning, directly pass antialias=True (recommended, future default), antialias=None (current default, which means False for Tensors and True for PIL), or antialias=False (only works on Tensors - PIL will still use antialiasing). This also applies if you are using the inference transforms from the models weights: update the call to weights.transforms(antialias=True).\n",
      "  warnings.warn(\n"
     ]
    }
   ],
   "source": [
    "identities = get_label_per_path_dict(test_data_loader)"
   ]
  },
  {
   "cell_type": "code",
   "execution_count": 8,
   "id": "8106e4b8-ac29-4c88-87ab-cca083b175b2",
   "metadata": {},
   "outputs": [],
   "source": [
    "model_pth = '/opt/ml/project/insightface/recognition/level3_cv_finalproject-cv-14/work_dirs/wf4m_ghost/model.pt'\n",
    "# model_path = '/opt/ml/insightface/recognition/arcface_torch/work_dirs/wf4m_r50_epoch20/model.pt'"
   ]
  },
  {
   "cell_type": "code",
   "execution_count": 11,
   "id": "53458b8a-41e6-41fd-a72b-1f1c4e59cb79",
   "metadata": {},
   "outputs": [],
   "source": [
    "from backbones import get_model\n",
    "# from backbones.Inception_resnet import InceptionResnetV1\n",
    "import pandas as pd"
   ]
  },
  {
   "cell_type": "code",
   "execution_count": 12,
   "id": "3ca6c606-6943-4b69-8fcd-06816f74cb9c",
   "metadata": {},
   "outputs": [],
   "source": [
    "# model = InceptionResnetV1(classify=False,pretrained='vgg_casia')\n",
    "# model.load_state_dict(torch.load(model_pth))"
   ]
  },
  {
   "cell_type": "code",
   "execution_count": 13,
   "id": "c070e092",
   "metadata": {},
   "outputs": [
    {
     "ename": "TypeError",
     "evalue": "get_model() takes 1 positional argument but 2 were given",
     "output_type": "error",
     "traceback": [
      "\u001b[0;31m---------------------------------------------------------------------------\u001b[0m",
      "\u001b[0;31mTypeError\u001b[0m                                 Traceback (most recent call last)",
      "\u001b[1;32m/opt/ml/project/insightface/recognition/level3_cv_finalproject-cv-14/eval_test_v1.ipynb 셀 10\u001b[0m in \u001b[0;36m<cell line: 1>\u001b[0;34m()\u001b[0m\n\u001b[0;32m----> <a href='vscode-notebook-cell://ssh-remote%2B49.50.174.162/opt/ml/project/insightface/recognition/level3_cv_finalproject-cv-14/eval_test_v1.ipynb#X52sdnNjb2RlLXJlbW90ZQ%3D%3D?line=0'>1</a>\u001b[0m model \u001b[39m=\u001b[39m get_model(\u001b[39m'\u001b[39;49m\u001b[39mr50\u001b[39;49m\u001b[39m'\u001b[39;49m,\u001b[39mFalse\u001b[39;49;00m)\n\u001b[1;32m      <a href='vscode-notebook-cell://ssh-remote%2B49.50.174.162/opt/ml/project/insightface/recognition/level3_cv_finalproject-cv-14/eval_test_v1.ipynb#X52sdnNjb2RlLXJlbW90ZQ%3D%3D?line=1'>2</a>\u001b[0m model\u001b[39m.\u001b[39mstate_dict(torch\u001b[39m.\u001b[39mload(model_pth))\n",
      "\u001b[0;31mTypeError\u001b[0m: get_model() takes 1 positional argument but 2 were given"
     ]
    }
   ],
   "source": [
    "model = get_model('r50',)\n",
    "model.state_dict(torch.load(model_pth))"
   ]
  },
  {
   "cell_type": "code",
   "execution_count": 521,
   "id": "05f4cac4-a8c2-41c5-9d2c-0a7606822be9",
   "metadata": {},
   "outputs": [],
   "source": [
    "# model = InceptionResnetV1(\n",
    "#     classify=False,\n",
    "#     pretrained='vggface2'\n",
    "# ).to(device)"
   ]
  },
  {
   "cell_type": "code",
   "execution_count": 522,
   "id": "6c607514-ae5e-4031-9291-53aeb45a711e",
   "metadata": {},
   "outputs": [],
   "source": [
    "def make_path_embedding_dict(FILE_PATH) :\n",
    "    path_embedding_dict = {}\n",
    "    model.eval()\n",
    "    with torch.no_grad() :\n",
    "        \n",
    "        dataset = Crawling_Nomal_Dataset(FILE_PATH, transforms=transform)\n",
    "        data_loader = data.DataLoader(dataset, batch_size=1, shuffle=True, num_workers=2, drop_last=False)\n",
    "        \n",
    "        for feature, path_label_list in data_loader :\n",
    "            # print(path_label_list)\n",
    "            embeddings = get_embedding(feature)\n",
    "            key = path_label_list[0][0]\n",
    "            # print(key)\n",
    "            value = embeddings\n",
    "            path_embedding_dict[key] = value\n",
    "            \n",
    "    return path_embedding_dict\n",
    "        "
   ]
  },
  {
   "cell_type": "code",
   "execution_count": 523,
   "id": "ed4663be-3f8a-4417-8edf-2901b1eb6e35",
   "metadata": {},
   "outputs": [],
   "source": [
    "path2embedding = make_path_embedding_dict(test_path)"
   ]
  },
  {
   "cell_type": "code",
   "execution_count": 524,
   "id": "d3169acf-652d-4a88-a05e-ed506981beb3",
   "metadata": {},
   "outputs": [
    {
     "data": {
      "text/plain": [
       "200"
      ]
     },
     "execution_count": 524,
     "metadata": {},
     "output_type": "execute_result"
    }
   ],
   "source": [
    "len(path2embedding.values())"
   ]
  },
  {
   "cell_type": "code",
   "execution_count": 525,
   "id": "3ca5c45a-ec16-48b1-8864-17d249ae3768",
   "metadata": {},
   "outputs": [
    {
     "data": {
      "text/html": [
       "<div>\n",
       "<style scoped>\n",
       "    .dataframe tbody tr th:only-of-type {\n",
       "        vertical-align: middle;\n",
       "    }\n",
       "\n",
       "    .dataframe tbody tr th {\n",
       "        vertical-align: top;\n",
       "    }\n",
       "\n",
       "    .dataframe thead th {\n",
       "        text-align: right;\n",
       "    }\n",
       "</style>\n",
       "<table border=\"1\" class=\"dataframe\">\n",
       "  <thead>\n",
       "    <tr style=\"text-align: right;\">\n",
       "      <th></th>\n",
       "      <th>file_x</th>\n",
       "      <th>file_y</th>\n",
       "      <th>decision</th>\n",
       "    </tr>\n",
       "  </thead>\n",
       "  <tbody>\n",
       "    <tr>\n",
       "      <th>0</th>\n",
       "      <td>/opt/ml/data/celeb_30/cut_test/cut_Parkjiseong...</td>\n",
       "      <td>/opt/ml/data/celeb_30/cut_test/cut_Parkjiseong...</td>\n",
       "      <td>Yes</td>\n",
       "    </tr>\n",
       "    <tr>\n",
       "      <th>1</th>\n",
       "      <td>/opt/ml/data/celeb_30/cut_test/cut_Parkjiseong...</td>\n",
       "      <td>/opt/ml/data/celeb_30/cut_test/cut_Parkjiseong...</td>\n",
       "      <td>Yes</td>\n",
       "    </tr>\n",
       "    <tr>\n",
       "      <th>2</th>\n",
       "      <td>/opt/ml/data/celeb_30/cut_test/cut_Parkjiseong...</td>\n",
       "      <td>/opt/ml/data/celeb_30/cut_test/cut_Parkjiseong...</td>\n",
       "      <td>Yes</td>\n",
       "    </tr>\n",
       "    <tr>\n",
       "      <th>3</th>\n",
       "      <td>/opt/ml/data/celeb_30/cut_test/cut_Parkjiseong...</td>\n",
       "      <td>/opt/ml/data/celeb_30/cut_test/cut_Parkjiseong...</td>\n",
       "      <td>Yes</td>\n",
       "    </tr>\n",
       "    <tr>\n",
       "      <th>4</th>\n",
       "      <td>/opt/ml/data/celeb_30/cut_test/cut_Parkjiseong...</td>\n",
       "      <td>/opt/ml/data/celeb_30/cut_test/cut_Parkjiseong...</td>\n",
       "      <td>Yes</td>\n",
       "    </tr>\n",
       "  </tbody>\n",
       "</table>\n",
       "</div>"
      ],
      "text/plain": [
       "                                              file_x  \\\n",
       "0  /opt/ml/data/celeb_30/cut_test/cut_Parkjiseong...   \n",
       "1  /opt/ml/data/celeb_30/cut_test/cut_Parkjiseong...   \n",
       "2  /opt/ml/data/celeb_30/cut_test/cut_Parkjiseong...   \n",
       "3  /opt/ml/data/celeb_30/cut_test/cut_Parkjiseong...   \n",
       "4  /opt/ml/data/celeb_30/cut_test/cut_Parkjiseong...   \n",
       "\n",
       "                                              file_y decision  \n",
       "0  /opt/ml/data/celeb_30/cut_test/cut_Parkjiseong...      Yes  \n",
       "1  /opt/ml/data/celeb_30/cut_test/cut_Parkjiseong...      Yes  \n",
       "2  /opt/ml/data/celeb_30/cut_test/cut_Parkjiseong...      Yes  \n",
       "3  /opt/ml/data/celeb_30/cut_test/cut_Parkjiseong...      Yes  \n",
       "4  /opt/ml/data/celeb_30/cut_test/cut_Parkjiseong...      Yes  "
      ]
     },
     "execution_count": 525,
     "metadata": {},
     "output_type": "execute_result"
    }
   ],
   "source": [
    "positives = []\n",
    "for key, values in idendities.items():\n",
    "    # print(values)\n",
    "    for i in range(0, len(values)-1):\n",
    "        for j in range(i+1, len(values)):\n",
    "            positive = []\n",
    "            positive.append(values[i])\n",
    "            positive.append(values[j])\n",
    "            positives.append(positive)\n",
    "# print(positives)\n",
    "positives = pd.DataFrame(positives, columns = [\"file_x\", \"file_y\"])\n",
    "positives[\"decision\"] = \"Yes\"\n",
    "positives.head()"
   ]
  },
  {
   "cell_type": "code",
   "execution_count": 526,
   "id": "612fc0fd-76aa-40ff-95c2-4f77516cc71b",
   "metadata": {},
   "outputs": [],
   "source": [
    "import itertools\n",
    "samples_list = list(idendities.values())\n",
    "# print(samples_list)\n",
    "negatives = []\n",
    "for i in range(0, len(idendities) - 1):\n",
    "    for j in range(i+1, len(idendities)):\n",
    "        cross_product = itertools.product(samples_list[i], samples_list[j])\n",
    "        cross_product = list(cross_product)\n",
    "        # print(cross_product)\n",
    "        \n",
    " \n",
    "    for cross_sample in cross_product:\n",
    "        negative = []\n",
    "        negative.append(cross_sample[0])\n",
    "        negative.append(cross_sample[1])\n",
    "        negatives.append(negative)\n",
    " \n",
    "negatives = pd.DataFrame(negatives, columns = [\"file_x\", \"file_y\"])\n",
    "negatives[\"decision\"] = \"No\""
   ]
  },
  {
   "cell_type": "code",
   "execution_count": 527,
   "id": "b8f03a42-ae7d-4b24-aa31-a0c9cc789ca1",
   "metadata": {},
   "outputs": [
    {
     "data": {
      "text/html": [
       "<div>\n",
       "<style scoped>\n",
       "    .dataframe tbody tr th:only-of-type {\n",
       "        vertical-align: middle;\n",
       "    }\n",
       "\n",
       "    .dataframe tbody tr th {\n",
       "        vertical-align: top;\n",
       "    }\n",
       "\n",
       "    .dataframe thead th {\n",
       "        text-align: right;\n",
       "    }\n",
       "</style>\n",
       "<table border=\"1\" class=\"dataframe\">\n",
       "  <thead>\n",
       "    <tr style=\"text-align: right;\">\n",
       "      <th></th>\n",
       "      <th>file_x</th>\n",
       "      <th>file_y</th>\n",
       "      <th>decision</th>\n",
       "    </tr>\n",
       "  </thead>\n",
       "  <tbody>\n",
       "    <tr>\n",
       "      <th>0</th>\n",
       "      <td>/opt/ml/data/celeb_30/cut_test/cut_Parkjiseong...</td>\n",
       "      <td>/opt/ml/data/celeb_30/cut_test/cut_Jangdoyoun_...</td>\n",
       "      <td>No</td>\n",
       "    </tr>\n",
       "    <tr>\n",
       "      <th>1</th>\n",
       "      <td>/opt/ml/data/celeb_30/cut_test/cut_Parkjiseong...</td>\n",
       "      <td>/opt/ml/data/celeb_30/cut_test/cut_Jangdoyoun_...</td>\n",
       "      <td>No</td>\n",
       "    </tr>\n",
       "    <tr>\n",
       "      <th>2</th>\n",
       "      <td>/opt/ml/data/celeb_30/cut_test/cut_Parkjiseong...</td>\n",
       "      <td>/opt/ml/data/celeb_30/cut_test/cut_Jangdoyoun_...</td>\n",
       "      <td>No</td>\n",
       "    </tr>\n",
       "    <tr>\n",
       "      <th>3</th>\n",
       "      <td>/opt/ml/data/celeb_30/cut_test/cut_Parkjiseong...</td>\n",
       "      <td>/opt/ml/data/celeb_30/cut_test/cut_Jangdoyoun_...</td>\n",
       "      <td>No</td>\n",
       "    </tr>\n",
       "    <tr>\n",
       "      <th>4</th>\n",
       "      <td>/opt/ml/data/celeb_30/cut_test/cut_Parkjiseong...</td>\n",
       "      <td>/opt/ml/data/celeb_30/cut_test/cut_Jangdoyoun_...</td>\n",
       "      <td>No</td>\n",
       "    </tr>\n",
       "  </tbody>\n",
       "</table>\n",
       "</div>"
      ],
      "text/plain": [
       "                                              file_x  \\\n",
       "0  /opt/ml/data/celeb_30/cut_test/cut_Parkjiseong...   \n",
       "1  /opt/ml/data/celeb_30/cut_test/cut_Parkjiseong...   \n",
       "2  /opt/ml/data/celeb_30/cut_test/cut_Parkjiseong...   \n",
       "3  /opt/ml/data/celeb_30/cut_test/cut_Parkjiseong...   \n",
       "4  /opt/ml/data/celeb_30/cut_test/cut_Parkjiseong...   \n",
       "\n",
       "                                              file_y decision  \n",
       "0  /opt/ml/data/celeb_30/cut_test/cut_Jangdoyoun_...       No  \n",
       "1  /opt/ml/data/celeb_30/cut_test/cut_Jangdoyoun_...       No  \n",
       "2  /opt/ml/data/celeb_30/cut_test/cut_Jangdoyoun_...       No  \n",
       "3  /opt/ml/data/celeb_30/cut_test/cut_Jangdoyoun_...       No  \n",
       "4  /opt/ml/data/celeb_30/cut_test/cut_Jangdoyoun_...       No  "
      ]
     },
     "execution_count": 527,
     "metadata": {},
     "output_type": "execute_result"
    }
   ],
   "source": [
    "negatives.head()"
   ]
  },
  {
   "cell_type": "code",
   "execution_count": 528,
   "id": "7c6a0120-6a7b-48b6-ad12-472b5c5ebc46",
   "metadata": {},
   "outputs": [
    {
     "data": {
      "text/html": [
       "<div>\n",
       "<style scoped>\n",
       "    .dataframe tbody tr th:only-of-type {\n",
       "        vertical-align: middle;\n",
       "    }\n",
       "\n",
       "    .dataframe tbody tr th {\n",
       "        vertical-align: top;\n",
       "    }\n",
       "\n",
       "    .dataframe thead th {\n",
       "        text-align: right;\n",
       "    }\n",
       "</style>\n",
       "<table border=\"1\" class=\"dataframe\">\n",
       "  <thead>\n",
       "    <tr style=\"text-align: right;\">\n",
       "      <th></th>\n",
       "      <th>file_x</th>\n",
       "      <th>file_y</th>\n",
       "      <th>decision</th>\n",
       "    </tr>\n",
       "  </thead>\n",
       "  <tbody>\n",
       "    <tr>\n",
       "      <th>0</th>\n",
       "      <td>/opt/ml/data/celeb_30/cut_test/cut_Parkjiseong...</td>\n",
       "      <td>/opt/ml/data/celeb_30/cut_test/cut_Parkjiseong...</td>\n",
       "      <td>Yes</td>\n",
       "    </tr>\n",
       "    <tr>\n",
       "      <th>1</th>\n",
       "      <td>/opt/ml/data/celeb_30/cut_test/cut_Parkjiseong...</td>\n",
       "      <td>/opt/ml/data/celeb_30/cut_test/cut_Parkjiseong...</td>\n",
       "      <td>Yes</td>\n",
       "    </tr>\n",
       "    <tr>\n",
       "      <th>2</th>\n",
       "      <td>/opt/ml/data/celeb_30/cut_test/cut_Parkjiseong...</td>\n",
       "      <td>/opt/ml/data/celeb_30/cut_test/cut_Parkjiseong...</td>\n",
       "      <td>Yes</td>\n",
       "    </tr>\n",
       "    <tr>\n",
       "      <th>3</th>\n",
       "      <td>/opt/ml/data/celeb_30/cut_test/cut_Parkjiseong...</td>\n",
       "      <td>/opt/ml/data/celeb_30/cut_test/cut_Parkjiseong...</td>\n",
       "      <td>Yes</td>\n",
       "    </tr>\n",
       "    <tr>\n",
       "      <th>4</th>\n",
       "      <td>/opt/ml/data/celeb_30/cut_test/cut_Parkjiseong...</td>\n",
       "      <td>/opt/ml/data/celeb_30/cut_test/cut_Parkjiseong...</td>\n",
       "      <td>Yes</td>\n",
       "    </tr>\n",
       "  </tbody>\n",
       "</table>\n",
       "</div>"
      ],
      "text/plain": [
       "                                              file_x  \\\n",
       "0  /opt/ml/data/celeb_30/cut_test/cut_Parkjiseong...   \n",
       "1  /opt/ml/data/celeb_30/cut_test/cut_Parkjiseong...   \n",
       "2  /opt/ml/data/celeb_30/cut_test/cut_Parkjiseong...   \n",
       "3  /opt/ml/data/celeb_30/cut_test/cut_Parkjiseong...   \n",
       "4  /opt/ml/data/celeb_30/cut_test/cut_Parkjiseong...   \n",
       "\n",
       "                                              file_y decision  \n",
       "0  /opt/ml/data/celeb_30/cut_test/cut_Parkjiseong...      Yes  \n",
       "1  /opt/ml/data/celeb_30/cut_test/cut_Parkjiseong...      Yes  \n",
       "2  /opt/ml/data/celeb_30/cut_test/cut_Parkjiseong...      Yes  \n",
       "3  /opt/ml/data/celeb_30/cut_test/cut_Parkjiseong...      Yes  \n",
       "4  /opt/ml/data/celeb_30/cut_test/cut_Parkjiseong...      Yes  "
      ]
     },
     "execution_count": 528,
     "metadata": {},
     "output_type": "execute_result"
    }
   ],
   "source": [
    "df = pd.concat([positives, negatives]).reset_index(drop = True)\n",
    "df.head()\n",
    "# df.file_x = \"dataset/\"+df.file_x\n",
    "# df.file_y = \"dataset/\"+df.file_y\n",
    "# df.head()"
   ]
  },
  {
   "cell_type": "code",
   "execution_count": 529,
   "id": "b03f7a13-0017-4858-92b3-bce10baa10a2",
   "metadata": {},
   "outputs": [
    {
     "name": "stdout",
     "output_type": "stream",
     "text": [
      "['/opt/ml/data/celeb_30/cut_test/cut_Parkjiseong_16.jpg', '/opt/ml/data/celeb_30/cut_test/cut_Parkjiseong_22.jpg']\n"
     ]
    }
   ],
   "source": [
    "instances = df[[\"file_x\", \"file_y\"]].values.tolist()\n",
    "print(instances[0])\n",
    "# path2embedding['/opt/ml/data/celeb_30/cut_test/cut_Parkjiseong_16.jpg']"
   ]
  },
  {
   "cell_type": "code",
   "execution_count": 530,
   "id": "734c533c-1f7e-4ccf-9ca0-6a79ba2921e9",
   "metadata": {},
   "outputs": [],
   "source": [
    "distance_list = []\n",
    "model.eval()\n",
    "with torch.no_grad():\n",
    "    for row in df.itertuples() :\n",
    "        embedding_1 = path2embedding[row[1]]\n",
    "        embedding_2 = path2embedding[row[2]]\n",
    "        dist = round(distance(embedding_1, embedding_2, 1)[0],4)\n",
    "        # print(dist)\n",
    "        distance_list.append(dist)\n",
    "\n",
    "df['distance'] = distance_list"
   ]
  },
  {
   "cell_type": "code",
   "execution_count": 531,
   "id": "37e8a3b2-5c2c-4988-8441-a3877ad98853",
   "metadata": {},
   "outputs": [
    {
     "data": {
      "text/plain": [
       "decision\n",
       "No     1900\n",
       "Yes     900\n",
       "Name: count, dtype: int64"
      ]
     },
     "execution_count": 531,
     "metadata": {},
     "output_type": "execute_result"
    }
   ],
   "source": [
    "df.decision.value_counts()"
   ]
  },
  {
   "cell_type": "code",
   "execution_count": 532,
   "id": "8bbfb523-58d6-4acf-8842-c21a21a24346",
   "metadata": {},
   "outputs": [
    {
     "data": {
      "text/plain": [
       "<Axes: ylabel='Density'>"
      ]
     },
     "execution_count": 532,
     "metadata": {},
     "output_type": "execute_result"
    },
    {
     "data": {
      "image/png": "[encoded data removed]",
      "text/plain": [
       "<Figure size 640x480 with 1 Axes>"
      ]
     },
     "metadata": {},
     "output_type": "display_data"
    }
   ],
   "source": [
    "# KDE\n",
    "df[df.decision == \"Yes\"].distance.plot.kde()\n",
    "df[df.decision == \"No\"].distance.plot.kde()"
   ]
  },
  {
   "cell_type": "code",
   "execution_count": 533,
   "id": "91ae2da6-6d51-430e-847b-6e4c60e904f3",
   "metadata": {},
   "outputs": [
    {
     "name": "stdout",
     "output_type": "stream",
     "text": [
      "0.2711 0.0574\n",
      "0.3892 0.0546\n"
     ]
    }
   ],
   "source": [
    "p_mean = round(df[df.decision == \"Yes\"].distance.mean(), 4)\n",
    "p_std = round(df[df.decision == \"Yes\"].distance.std(), 4)\n",
    "n_mean = round(df[df.decision == \"No\"].distance.mean(), 4)\n",
    "n_std = round(df[df.decision == \"No\"].distance.std(), 4)\n",
    "print(p_mean, p_std)\n",
    "print(n_mean, n_std)"
   ]
  },
  {
   "cell_type": "code",
   "execution_count": 534,
   "id": "e1d2e69b-23e4-4f78-9fb0-3d070a9153ad",
   "metadata": {},
   "outputs": [
    {
     "name": "stdout",
     "output_type": "stream",
     "text": [
      "0.3188\n"
     ]
    }
   ],
   "source": [
    "sigma = 1 # 1, 2,..\n",
    "threshold = round(p_mean + sigma * tp_std, 4)\n",
    "print(threshold)"
   ]
  },
  {
   "cell_type": "code",
   "execution_count": 535,
   "id": "6d14ed0c-48c1-4224-96e1-cb78b415b2ec",
   "metadata": {},
   "outputs": [
    {
     "data": {
      "text/html": [
       "<div>\n",
       "<style scoped>\n",
       "    .dataframe tbody tr th:only-of-type {\n",
       "        vertical-align: middle;\n",
       "    }\n",
       "\n",
       "    .dataframe tbody tr th {\n",
       "        vertical-align: top;\n",
       "    }\n",
       "\n",
       "    .dataframe thead th {\n",
       "        text-align: right;\n",
       "    }\n",
       "</style>\n",
       "<table border=\"1\" class=\"dataframe\">\n",
       "  <thead>\n",
       "    <tr style=\"text-align: right;\">\n",
       "      <th></th>\n",
       "      <th>file_x</th>\n",
       "      <th>file_y</th>\n",
       "      <th>decision</th>\n",
       "      <th>distance</th>\n",
       "      <th>prediction</th>\n",
       "    </tr>\n",
       "  </thead>\n",
       "  <tbody>\n",
       "    <tr>\n",
       "      <th>0</th>\n",
       "      <td>/opt/ml/data/celeb_30/cut_test/cut_Parkjiseong...</td>\n",
       "      <td>/opt/ml/data/celeb_30/cut_test/cut_Parkjiseong...</td>\n",
       "      <td>Yes</td>\n",
       "      <td>0.1907</td>\n",
       "      <td>Yes</td>\n",
       "    </tr>\n",
       "    <tr>\n",
       "      <th>1</th>\n",
       "      <td>/opt/ml/data/celeb_30/cut_test/cut_Parkjiseong...</td>\n",
       "      <td>/opt/ml/data/celeb_30/cut_test/cut_Parkjiseong...</td>\n",
       "      <td>Yes</td>\n",
       "      <td>0.2014</td>\n",
       "      <td>Yes</td>\n",
       "    </tr>\n",
       "    <tr>\n",
       "      <th>2</th>\n",
       "      <td>/opt/ml/data/celeb_30/cut_test/cut_Parkjiseong...</td>\n",
       "      <td>/opt/ml/data/celeb_30/cut_test/cut_Parkjiseong...</td>\n",
       "      <td>Yes</td>\n",
       "      <td>0.1878</td>\n",
       "      <td>Yes</td>\n",
       "    </tr>\n",
       "    <tr>\n",
       "      <th>3</th>\n",
       "      <td>/opt/ml/data/celeb_30/cut_test/cut_Parkjiseong...</td>\n",
       "      <td>/opt/ml/data/celeb_30/cut_test/cut_Parkjiseong...</td>\n",
       "      <td>Yes</td>\n",
       "      <td>0.1800</td>\n",
       "      <td>Yes</td>\n",
       "    </tr>\n",
       "    <tr>\n",
       "      <th>4</th>\n",
       "      <td>/opt/ml/data/celeb_30/cut_test/cut_Parkjiseong...</td>\n",
       "      <td>/opt/ml/data/celeb_30/cut_test/cut_Parkjiseong...</td>\n",
       "      <td>Yes</td>\n",
       "      <td>0.2075</td>\n",
       "      <td>Yes</td>\n",
       "    </tr>\n",
       "  </tbody>\n",
       "</table>\n",
       "</div>"
      ],
      "text/plain": [
       "                                              file_x  \\\n",
       "0  /opt/ml/data/celeb_30/cut_test/cut_Parkjiseong...   \n",
       "1  /opt/ml/data/celeb_30/cut_test/cut_Parkjiseong...   \n",
       "2  /opt/ml/data/celeb_30/cut_test/cut_Parkjiseong...   \n",
       "3  /opt/ml/data/celeb_30/cut_test/cut_Parkjiseong...   \n",
       "4  /opt/ml/data/celeb_30/cut_test/cut_Parkjiseong...   \n",
       "\n",
       "                                              file_y decision  distance  \\\n",
       "0  /opt/ml/data/celeb_30/cut_test/cut_Parkjiseong...      Yes    0.1907   \n",
       "1  /opt/ml/data/celeb_30/cut_test/cut_Parkjiseong...      Yes    0.2014   \n",
       "2  /opt/ml/data/celeb_30/cut_test/cut_Parkjiseong...      Yes    0.1878   \n",
       "3  /opt/ml/data/celeb_30/cut_test/cut_Parkjiseong...      Yes    0.1800   \n",
       "4  /opt/ml/data/celeb_30/cut_test/cut_Parkjiseong...      Yes    0.2075   \n",
       "\n",
       "  prediction  \n",
       "0        Yes  \n",
       "1        Yes  \n",
       "2        Yes  \n",
       "3        Yes  \n",
       "4        Yes  "
      ]
     },
     "execution_count": 535,
     "metadata": {},
     "output_type": "execute_result"
    }
   ],
   "source": [
    "df['prediction'] = 'No'\n",
    "idx = df[df.distance <= threshold].index\n",
    "df.loc[idx, 'prediction'] = 'Yes'\n",
    "df.head()"
   ]
  },
  {
   "cell_type": "code",
   "execution_count": 536,
   "id": "628b0e35-44a0-47e4-8c52-8fe68db4c05d",
   "metadata": {},
   "outputs": [
    {
     "name": "stdout",
     "output_type": "stream",
     "text": [
      "[[1719  181]\n",
      " [ 191  709]]\n",
      "acc    :  0.8671428571428571\n",
      "recall :  0.7877777777777778\n",
      "f1     :  0.7921787709497207\n",
      "precision :  0.7966292134831461\n"
     ]
    }
   ],
   "source": [
    "from sklearn.metrics import confusion_matrix\n",
    "cm = confusion_matrix(df.decision.values, df.prediction.values)\n",
    "print(cm)\n",
    "tn, fp, fn, tp = cm.ravel()\n",
    "recall = tp / (tp + fn)\n",
    "precision = tp / (tp + fp)\n",
    "accuracy = (tp + tn)/(tn + fp +  fn + tp)\n",
    "f1 = 2 * (precision * recall) / (precision + recall)\n",
    "print('acc    : ', accuracy)\n",
    "print('recall : ', recall)\n",
    "print('f1     : ', f1)\n",
    "print('precision : ', precision)"
   ]
  },
  {
   "cell_type": "code",
   "execution_count": 36,
   "id": "21d6202d-dd92-447c-bddc-54dfc0edeabd",
   "metadata": {},
   "outputs": [
    {
     "name": "stdout",
     "output_type": "stream",
     "text": [
      "Running on device: cuda:0\n"
     ]
    }
   ],
   "source": [
    "device = torch.device('cuda:0' if torch.cuda.is_available() else 'cpu')\n",
    "print('Running on device: {}'.format(device))"
   ]
  },
  {
   "cell_type": "code",
   "execution_count": 169,
   "id": "7cdb5582-88c6-45f5-a22e-06acf5439fd3",
   "metadata": {},
   "outputs": [],
   "source": [
    "def img_loader(path) :\n",
    "    try : \n",
    "        with open(path, 'rb') as f :\n",
    "            img = cv2.imread(path) \n",
    "            if len(img.shape) == 2 :\n",
    "                img = np.stack([img] * 3, 2)\n",
    "        \n",
    "            return img\n",
    "    except IOError :\n",
    "        print('Cannot load image' + path)"
   ]
  },
  {
   "cell_type": "code",
   "execution_count": 225,
   "id": "e51c5d59-8cff-43ca-9e2e-311b51264c39",
   "metadata": {},
   "outputs": [],
   "source": [
    "def img2embedding(image_path, tranform=None) :\n",
    "    img = img_loader(image_path)\n",
    "\n",
    "    if transforms is not None :\n",
    "        img = transform(img)\n",
    "    else :\n",
    "        img = torch.from_numpy(img)\n",
    "    img = img.unsqueeze(0)\n",
    "    # print(img.shape)\n",
    "    embedding = get_embedding(img)\n",
    "    return embedding"
   ]
  },
  {
   "cell_type": "code",
   "execution_count": 489,
   "id": "33e9cad9-73ed-43a2-8e70-3f98e05337df",
   "metadata": {},
   "outputs": [],
   "source": [
    "def get_embedding(feature) :\n",
    "    feature = feature.to(device)\n",
    "    # feature = torch.as_tensor(feature, dtype=torch.float32)\n",
    "    embedding = model(feature)\n",
    "    embedding = embedding.to('cpu').numpy()\n",
    "    # embedding = embedding.astype(np.float32)\n",
    "    return embedding"
   ]
  },
  {
   "cell_type": "code",
   "execution_count": 31,
   "id": "c651b6cd-b050-4eac-b06a-01707efb60df",
   "metadata": {},
   "outputs": [],
   "source": [
    "def distance(embeddings1, embeddings2, distance_metric=0):\n",
    "    if distance_metric==0:\n",
    "        # Euclidian distance\n",
    "        diff = np.subtract(embeddings1, embeddings2)\n",
    "        dist = np.sum(np.square(diff),1)\n",
    "    elif distance_metric==1:\n",
    "        # Distance based on cosine similarity\n",
    "        dot = np.sum(np.multiply(embeddings1, embeddings2), axis=1)\n",
    "        norm = np.linalg.norm(embeddings1, axis=1) * np.linalg.norm(embeddings2, axis=1)\n",
    "        similarity = dot / norm\n",
    "        dist = np.arccos(similarity) / math.pi\n",
    "    else:\n",
    "        raise 'Undefined distance metric %d' % distance_metric\n",
    "\n",
    "    return dist"
   ]
  },
  {
   "cell_type": "code",
   "execution_count": 60,
   "id": "e2a9fbe7-b88b-4683-87e6-a1724eca5cb6",
   "metadata": {},
   "outputs": [],
   "source": [
    "def calculate(rank_list, train_label) :\n",
    "    count = 0\n",
    "    for dis, label in rank_list :\n",
    "        if label == train_label :\n",
    "            count += 1\n",
    "    return count"
   ]
  },
  {
   "cell_type": "code",
   "execution_count": 360,
   "id": "4cdff648-6eaf-4f9b-900f-a009baa9c26e",
   "metadata": {},
   "outputs": [],
   "source": [
    "def get_embedding_from_file(FILEPATH) :\n",
    "    model.eval()\n",
    "    with torch.no_grad() :\n",
    "        dataset = Crawling_Nomal_Dataset(FILEPATH, transforms=transform)\n",
    "        data_loader = data.DataLoader(dataset, batch_size=len(dataset), shuffle=True, num_workers=2, drop_last=False)\n",
    "        \n",
    "        for feature, path_label_list in data_loader :\n",
    "            embeddings = get_embedding(feature)\n",
    "            print(len(path_label_list[1]))\n",
    "            print(path_label_list[1])\n",
    "            print(embeddings.shape)\n",
    "            return embeddings, path_label_list"
   ]
  },
  {
   "cell_type": "code",
   "execution_count": 79,
   "id": "7f36d17a-d793-4d3d-8347-39370dda863a",
   "metadata": {},
   "outputs": [
    {
     "name": "stdout",
     "output_type": "stream",
     "text": [
      "200\n",
      "tensor([ 8, 19, 17, 11, 11,  9, 18, 17,  9,  4, 14, 11, 10, 14, 10,  6, 10, 14,\n",
      "         7, 12,  2, 10,  2,  6,  3,  7, 16, 14, 16,  9, 17, 14,  2, 18, 13,  9,\n",
      "         7,  3,  0,  9, 15, 13,  4, 13, 19,  3,  1,  3,  2,  4,  0, 12, 17,  3,\n",
      "        14, 15,  4, 15, 13,  7, 11, 16,  8, 17, 14, 11,  5,  3,  9,  8, 18,  2,\n",
      "        12,  4, 10,  0,  2, 19,  2,  0, 13, 14,  4,  1,  6,  6, 18, 13,  5, 16,\n",
      "        17, 19,  9, 10,  3,  0, 15, 10, 16, 19,  4,  6,  1,  6,  9,  1, 17, 11,\n",
      "         8, 19,  7, 11, 18, 17, 17,  6, 16,  0, 19,  0,  2,  7,  8, 16,  1, 11,\n",
      "         9,  5,  5,  1,  3,  7,  3, 15,  6, 15,  1,  0, 10, 18,  1,  2, 12, 19,\n",
      "         6,  5, 12,  2, 18,  0,  6, 10,  8, 11, 13,  5,  0,  4, 14, 18,  8, 18,\n",
      "         5,  4, 17,  7, 12, 11, 13, 13,  3, 15,  8, 10, 14,  8,  7,  5,  8,  5,\n",
      "        16, 15, 15,  7, 15, 13, 18, 12, 12,  4,  1,  9, 16,  1, 12, 12,  5, 19,\n",
      "        16, 19])\n",
      "(200, 512)\n"
     ]
    }
   ],
   "source": [
    "test_embeddings, path_label_list = get_embedding_from_file(test_path)"
   ]
  },
  {
   "cell_type": "code",
   "execution_count": 361,
   "id": "280026d8-0632-4657-afa7-afc5a47ace3f",
   "metadata": {},
   "outputs": [
    {
     "name": "stderr",
     "output_type": "stream",
     "text": [
      "100%|██████████| 200/200 [00:12<00:00, 15.65it/s]\n"
     ]
    }
   ],
   "source": [
    "TOP_NUM = 10\n",
    "eu_ten_check_list = []\n",
    "correct_count_dict = defaultdict(lambda : 0)\n",
    "model.eval()\n",
    "with torch.no_grad():\n",
    "    for idx,(feature, b) in enumerate(tqdm.tqdm(train_embedding_loader, leave=True)) :\n",
    "        train_embedding = get_embedding(feature)\n",
    "        train_label = b[1].tolist()[0]\n",
    "        train_image_path = b[0][0]\n",
    "        eu_label_embedding_list = []\n",
    "\n",
    "        eu_dist = distance(train_embedding, test_embeddings, 1)\n",
    "        test_label_list = path_label_list[1].tolist()\n",
    "        \n",
    "        for pair in zip(eu_dist, test_label_list) :\n",
    "            eu_label_embedding_list.append(pair)\n",
    "\n",
    "        eu_label_embedding_list = sorted(eu_label_embedding_list)\n",
    "        eu_top_rank_list = eu_label_embedding_list[:TOP_NUM]\n",
    "        \n",
    "        count = calculate(eu_top_rank_list, train_label)\n",
    "        correct_count_dict[train_label] += count\n",
    "        if count < 7 :\n",
    "            eu_ten_check_list.append((train_image_path,train_label))"
   ]
  },
  {
   "cell_type": "code",
   "execution_count": 62,
   "id": "deb2426b-2ca4-4c96-a96b-c83d09872e9a",
   "metadata": {},
   "outputs": [
    {
     "name": "stdout",
     "output_type": "stream",
     "text": [
      "{0: 'Ohyeonseo', 1: 'SongJoongki', 2: 'Parkhaseon', 3: 'Jojeongseok', 4: 'Jangdoyoun', 5: 'Hanhyojoo', 6: 'Chunwoohee', 7: 'Shinsekyung', 8: 'Jokyuhyun', 9: 'Sonhuengmin', 10: 'Parknarae', 11: 'Yooyeonseok', 12: 'Yimsiwan', 13: 'Leeseungki', 14: 'Parkjiseong', 15: 'Leegookju', 16: 'BTSjhin', 17: 'BTSsuga', 18: 'Ahnyoungmi', 19: 'Taeyeon'}\n"
     ]
    }
   ],
   "source": [
    "NUM2NAME_dict = train_dataset.get_label_dict_NUM2NAME()\n",
    "NAME2NUM_dict = train_dataset.get_label_dict_NAME2NUM()\n",
    "print(NUM2NAME_dict)"
   ]
  },
  {
   "cell_type": "code",
   "execution_count": 83,
   "id": "47d448ce-6e47-4603-ad5a-60b9fe5b0254",
   "metadata": {},
   "outputs": [
    {
     "data": {
      "text/plain": [
       "<BarContainer object of 20 artists>"
      ]
     },
     "execution_count": 83,
     "metadata": {},
     "output_type": "execute_result"
    },
    {
     "data": {
      "image/png": "[encoded data removed]",
      "text/plain": [
       "<Figure size 2500x1000 with 1 Axes>"
      ]
     },
     "metadata": {},
     "output_type": "display_data"
    }
   ],
   "source": [
    "item = correct_count_dict.items()\n",
    "item = sorted(item)\n",
    "name = []\n",
    "counts = []\n",
    "for label, count in item :\n",
    "    name.append(NUM2NAME_dict[label])\n",
    "    counts.append(count)\n",
    "plt.figure(figsize=(25,10))\n",
    "plt.bar(name, counts)"
   ]
  },
  {
   "cell_type": "code",
   "execution_count": null,
   "id": "81de734a-72bf-4fe4-a065-f1e28bf57697",
   "metadata": {},
   "outputs": [],
   "source": []
  }
 ],
 "metadata": {
  "kernelspec": {
   "display_name": "Python 3 (ipykernel)",
   "language": "python",
   "name": "python3"
  },
  "language_info": {
   "codemirror_mode": {
    "name": "ipython",
    "version": 3
   },
   "file_extension": ".py",
   "mimetype": "text/x-python",
   "name": "python",
   "nbconvert_exporter": "python",
   "pygments_lexer": "ipython3",
   "version": "3.10.11"
  }
 },
 "nbformat": 4,
 "nbformat_minor": 5
}
